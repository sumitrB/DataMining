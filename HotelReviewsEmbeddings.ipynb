{
  "nbformat": 4,
  "nbformat_minor": 0,
  "metadata": {
    "colab": {
      "provenance": [],
      "mount_file_id": "1XoyFEqfgyBJeiDlinT_lR3icPApyVNe8",
      "authorship_tag": "ABX9TyNg4tHW+VL2z8ssqEuu7c7z",
      "include_colab_link": true
    },
    "kernelspec": {
      "name": "python3",
      "display_name": "Python 3"
    },
    "language_info": {
      "name": "python"
    }
  },
  "cells": [
    {
      "cell_type": "markdown",
      "metadata": {
        "id": "view-in-github",
        "colab_type": "text"
      },
      "source": [
        "<a href=\"https://colab.research.google.com/github/sumitrB/DataMining/blob/main/HotelReviewsEmbeddings.ipynb\" target=\"_parent\"><img src=\"https://colab.research.google.com/assets/colab-badge.svg\" alt=\"Open In Colab\"/></a>"
      ]
    },
    {
      "cell_type": "markdown",
      "source": [
        "# **Exploring Word2Vec for Semantic Analysis of Hotel Reviews**\n",
        "This notebook explores the application of Word2Vec to analyze semantic relationships in hotel reviews. Through various tuning experiments, we assess the model’s ability to capture meaningful connections between words, identify potential preprocessing challenges, and evaluate the impact of dataset limitations on embedding quality."
      ],
      "metadata": {
        "id": "B6vP2b36CbF0"
      }
    },
    {
      "cell_type": "code",
      "source": [
        "!pip install gensim"
      ],
      "metadata": {
        "colab": {
          "base_uri": "https://localhost:8080/"
        },
        "id": "m5akWPX3sXju",
        "outputId": "8dfbcea5-96d9-4efc-84ab-04fdee01ac49"
      },
      "execution_count": null,
      "outputs": [
        {
          "output_type": "stream",
          "name": "stdout",
          "text": [
            "Requirement already satisfied: gensim in /usr/local/lib/python3.11/dist-packages (4.3.3)\n",
            "Requirement already satisfied: numpy<2.0,>=1.18.5 in /usr/local/lib/python3.11/dist-packages (from gensim) (1.26.4)\n",
            "Requirement already satisfied: scipy<1.14.0,>=1.7.0 in /usr/local/lib/python3.11/dist-packages (from gensim) (1.13.1)\n",
            "Requirement already satisfied: smart-open>=1.8.1 in /usr/local/lib/python3.11/dist-packages (from gensim) (7.1.0)\n",
            "Requirement already satisfied: wrapt in /usr/local/lib/python3.11/dist-packages (from smart-open>=1.8.1->gensim) (1.17.2)\n"
          ]
        }
      ]
    },
    {
      "cell_type": "code",
      "source": [
        "import pandas as pd\n",
        "import string\n",
        "import nltk\n",
        "import gensim\n",
        "import re\n",
        "from nltk.corpus import stopwords\n",
        "from nltk.tokenize import word_tokenize\n",
        "from gensim.models import Word2Vec\n",
        "\n",
        "nltk.download('punkt_tab')  # Tokenizer\n",
        "nltk.download('stopwords')  # Stopwords list"
      ],
      "metadata": {
        "colab": {
          "base_uri": "https://localhost:8080/"
        },
        "id": "LmExXO0nhegF",
        "outputId": "3a70d6cb-54dd-4864-cb6a-8db2675af421"
      },
      "execution_count": null,
      "outputs": [
        {
          "output_type": "stream",
          "name": "stderr",
          "text": [
            "[nltk_data] Downloading package punkt_tab to /root/nltk_data...\n",
            "[nltk_data]   Package punkt_tab is already up-to-date!\n",
            "[nltk_data] Downloading package stopwords to /root/nltk_data...\n",
            "[nltk_data]   Package stopwords is already up-to-date!\n"
          ]
        },
        {
          "output_type": "execute_result",
          "data": {
            "text/plain": [
              "True"
            ]
          },
          "metadata": {},
          "execution_count": 2
        }
      ]
    },
    {
      "cell_type": "code",
      "execution_count": null,
      "metadata": {
        "id": "Qn2Zo0lRWm-6"
      },
      "outputs": [],
      "source": [
        "# Extract file from Drive\n",
        "file = '/content/drive/MyDrive/DataMining/Asgn4/hotel_reviews_extract.csv'\n",
        "\n",
        "# Read the dataset\n",
        "df= pd.read_csv(file)"
      ]
    },
    {
      "cell_type": "code",
      "source": [
        "df.info()"
      ],
      "metadata": {
        "colab": {
          "base_uri": "https://localhost:8080/"
        },
        "id": "QK2xtZf2i-M1",
        "outputId": "15dd4170-c786-4216-c631-ead1d99ac425"
      },
      "execution_count": null,
      "outputs": [
        {
          "output_type": "stream",
          "name": "stdout",
          "text": [
            "<class 'pandas.core.frame.DataFrame'>\n",
            "RangeIndex: 2438 entries, 0 to 2437\n",
            "Data columns (total 4 columns):\n",
            " #   Column       Non-Null Count  Dtype \n",
            "---  ------       --------------  ----- \n",
            " 0   review_full  2438 non-null   object\n",
            " 1   date         1654 non-null   object\n",
            " 2   summary      2438 non-null   object\n",
            " 3   details      2438 non-null   object\n",
            "dtypes: object(4)\n",
            "memory usage: 76.3+ KB\n"
          ]
        }
      ]
    },
    {
      "cell_type": "code",
      "source": [
        "df.head()"
      ],
      "metadata": {
        "colab": {
          "base_uri": "https://localhost:8080/",
          "height": 206
        },
        "id": "tjzFGG_5hMaA",
        "outputId": "5f72de89-2728-4a37-f243-ed23c428d0ac"
      },
      "execution_count": null,
      "outputs": [
        {
          "output_type": "execute_result",
          "data": {
            "text/plain": [
              "                                         review_full          date  \\\n",
              "0  Nov 18 2009\\tMary's Going Off to College Bash\\...   Nov 18 2009   \n",
              "1  Nov 16 2009 \\tRefreshing Marriott\\tStayed a lo...  Nov 16 2009    \n",
              "2  Oct 4 2009 \\tLoved La Gaffe\\tMy partner and I ...   Oct 4 2009    \n",
              "3  Oct 13 2009 \\tPerfect location nice big room e...  Oct 13 2009    \n",
              "4  \\tClean enjoyable but definately room for impr...           NaN   \n",
              "\n",
              "                                             summary  \\\n",
              "0                   Mary's Going Off to College Bash   \n",
              "1                                Refreshing Marriott   \n",
              "2                                     Loved La Gaffe   \n",
              "3   Perfect location nice big room excellent service   \n",
              "4  Clean enjoyable but definately room for improv...   \n",
              "\n",
              "                                             details  \n",
              "0  Neal Buker etc. We didn't have much of a view ...  \n",
              "1  Stayed a long weekend at the Marriott with wif...  \n",
              "2  My partner and I stayed here for 10days at the...  \n",
              "3  We found a great hotel in the Bloomsbury secti...  \n",
              "4  Stayed a few nights at Hotel Fusion. Great loc...  "
            ],
            "text/html": [
              "\n",
              "  <div id=\"df-1755fec3-6d0b-48ec-8d95-8ed105101e43\" class=\"colab-df-container\">\n",
              "    <div>\n",
              "<style scoped>\n",
              "    .dataframe tbody tr th:only-of-type {\n",
              "        vertical-align: middle;\n",
              "    }\n",
              "\n",
              "    .dataframe tbody tr th {\n",
              "        vertical-align: top;\n",
              "    }\n",
              "\n",
              "    .dataframe thead th {\n",
              "        text-align: right;\n",
              "    }\n",
              "</style>\n",
              "<table border=\"1\" class=\"dataframe\">\n",
              "  <thead>\n",
              "    <tr style=\"text-align: right;\">\n",
              "      <th></th>\n",
              "      <th>review_full</th>\n",
              "      <th>date</th>\n",
              "      <th>summary</th>\n",
              "      <th>details</th>\n",
              "    </tr>\n",
              "  </thead>\n",
              "  <tbody>\n",
              "    <tr>\n",
              "      <th>0</th>\n",
              "      <td>Nov 18 2009\\tMary's Going Off to College Bash\\...</td>\n",
              "      <td>Nov 18 2009</td>\n",
              "      <td>Mary's Going Off to College Bash</td>\n",
              "      <td>Neal Buker etc. We didn't have much of a view ...</td>\n",
              "    </tr>\n",
              "    <tr>\n",
              "      <th>1</th>\n",
              "      <td>Nov 16 2009 \\tRefreshing Marriott\\tStayed a lo...</td>\n",
              "      <td>Nov 16 2009</td>\n",
              "      <td>Refreshing Marriott</td>\n",
              "      <td>Stayed a long weekend at the Marriott with wif...</td>\n",
              "    </tr>\n",
              "    <tr>\n",
              "      <th>2</th>\n",
              "      <td>Oct 4 2009 \\tLoved La Gaffe\\tMy partner and I ...</td>\n",
              "      <td>Oct 4 2009</td>\n",
              "      <td>Loved La Gaffe</td>\n",
              "      <td>My partner and I stayed here for 10days at the...</td>\n",
              "    </tr>\n",
              "    <tr>\n",
              "      <th>3</th>\n",
              "      <td>Oct 13 2009 \\tPerfect location nice big room e...</td>\n",
              "      <td>Oct 13 2009</td>\n",
              "      <td>Perfect location nice big room excellent service</td>\n",
              "      <td>We found a great hotel in the Bloomsbury secti...</td>\n",
              "    </tr>\n",
              "    <tr>\n",
              "      <th>4</th>\n",
              "      <td>\\tClean enjoyable but definately room for impr...</td>\n",
              "      <td>NaN</td>\n",
              "      <td>Clean enjoyable but definately room for improv...</td>\n",
              "      <td>Stayed a few nights at Hotel Fusion. Great loc...</td>\n",
              "    </tr>\n",
              "  </tbody>\n",
              "</table>\n",
              "</div>\n",
              "    <div class=\"colab-df-buttons\">\n",
              "\n",
              "  <div class=\"colab-df-container\">\n",
              "    <button class=\"colab-df-convert\" onclick=\"convertToInteractive('df-1755fec3-6d0b-48ec-8d95-8ed105101e43')\"\n",
              "            title=\"Convert this dataframe to an interactive table.\"\n",
              "            style=\"display:none;\">\n",
              "\n",
              "  <svg xmlns=\"http://www.w3.org/2000/svg\" height=\"24px\" viewBox=\"0 -960 960 960\">\n",
              "    <path d=\"M120-120v-720h720v720H120Zm60-500h600v-160H180v160Zm220 220h160v-160H400v160Zm0 220h160v-160H400v160ZM180-400h160v-160H180v160Zm440 0h160v-160H620v160ZM180-180h160v-160H180v160Zm440 0h160v-160H620v160Z\"/>\n",
              "  </svg>\n",
              "    </button>\n",
              "\n",
              "  <style>\n",
              "    .colab-df-container {\n",
              "      display:flex;\n",
              "      gap: 12px;\n",
              "    }\n",
              "\n",
              "    .colab-df-convert {\n",
              "      background-color: #E8F0FE;\n",
              "      border: none;\n",
              "      border-radius: 50%;\n",
              "      cursor: pointer;\n",
              "      display: none;\n",
              "      fill: #1967D2;\n",
              "      height: 32px;\n",
              "      padding: 0 0 0 0;\n",
              "      width: 32px;\n",
              "    }\n",
              "\n",
              "    .colab-df-convert:hover {\n",
              "      background-color: #E2EBFA;\n",
              "      box-shadow: 0px 1px 2px rgba(60, 64, 67, 0.3), 0px 1px 3px 1px rgba(60, 64, 67, 0.15);\n",
              "      fill: #174EA6;\n",
              "    }\n",
              "\n",
              "    .colab-df-buttons div {\n",
              "      margin-bottom: 4px;\n",
              "    }\n",
              "\n",
              "    [theme=dark] .colab-df-convert {\n",
              "      background-color: #3B4455;\n",
              "      fill: #D2E3FC;\n",
              "    }\n",
              "\n",
              "    [theme=dark] .colab-df-convert:hover {\n",
              "      background-color: #434B5C;\n",
              "      box-shadow: 0px 1px 3px 1px rgba(0, 0, 0, 0.15);\n",
              "      filter: drop-shadow(0px 1px 2px rgba(0, 0, 0, 0.3));\n",
              "      fill: #FFFFFF;\n",
              "    }\n",
              "  </style>\n",
              "\n",
              "    <script>\n",
              "      const buttonEl =\n",
              "        document.querySelector('#df-1755fec3-6d0b-48ec-8d95-8ed105101e43 button.colab-df-convert');\n",
              "      buttonEl.style.display =\n",
              "        google.colab.kernel.accessAllowed ? 'block' : 'none';\n",
              "\n",
              "      async function convertToInteractive(key) {\n",
              "        const element = document.querySelector('#df-1755fec3-6d0b-48ec-8d95-8ed105101e43');\n",
              "        const dataTable =\n",
              "          await google.colab.kernel.invokeFunction('convertToInteractive',\n",
              "                                                    [key], {});\n",
              "        if (!dataTable) return;\n",
              "\n",
              "        const docLinkHtml = 'Like what you see? Visit the ' +\n",
              "          '<a target=\"_blank\" href=https://colab.research.google.com/notebooks/data_table.ipynb>data table notebook</a>'\n",
              "          + ' to learn more about interactive tables.';\n",
              "        element.innerHTML = '';\n",
              "        dataTable['output_type'] = 'display_data';\n",
              "        await google.colab.output.renderOutput(dataTable, element);\n",
              "        const docLink = document.createElement('div');\n",
              "        docLink.innerHTML = docLinkHtml;\n",
              "        element.appendChild(docLink);\n",
              "      }\n",
              "    </script>\n",
              "  </div>\n",
              "\n",
              "\n",
              "<div id=\"df-6a38f9ad-9b3d-414a-aae3-dc843d2006d9\">\n",
              "  <button class=\"colab-df-quickchart\" onclick=\"quickchart('df-6a38f9ad-9b3d-414a-aae3-dc843d2006d9')\"\n",
              "            title=\"Suggest charts\"\n",
              "            style=\"display:none;\">\n",
              "\n",
              "<svg xmlns=\"http://www.w3.org/2000/svg\" height=\"24px\"viewBox=\"0 0 24 24\"\n",
              "     width=\"24px\">\n",
              "    <g>\n",
              "        <path d=\"M19 3H5c-1.1 0-2 .9-2 2v14c0 1.1.9 2 2 2h14c1.1 0 2-.9 2-2V5c0-1.1-.9-2-2-2zM9 17H7v-7h2v7zm4 0h-2V7h2v10zm4 0h-2v-4h2v4z\"/>\n",
              "    </g>\n",
              "</svg>\n",
              "  </button>\n",
              "\n",
              "<style>\n",
              "  .colab-df-quickchart {\n",
              "      --bg-color: #E8F0FE;\n",
              "      --fill-color: #1967D2;\n",
              "      --hover-bg-color: #E2EBFA;\n",
              "      --hover-fill-color: #174EA6;\n",
              "      --disabled-fill-color: #AAA;\n",
              "      --disabled-bg-color: #DDD;\n",
              "  }\n",
              "\n",
              "  [theme=dark] .colab-df-quickchart {\n",
              "      --bg-color: #3B4455;\n",
              "      --fill-color: #D2E3FC;\n",
              "      --hover-bg-color: #434B5C;\n",
              "      --hover-fill-color: #FFFFFF;\n",
              "      --disabled-bg-color: #3B4455;\n",
              "      --disabled-fill-color: #666;\n",
              "  }\n",
              "\n",
              "  .colab-df-quickchart {\n",
              "    background-color: var(--bg-color);\n",
              "    border: none;\n",
              "    border-radius: 50%;\n",
              "    cursor: pointer;\n",
              "    display: none;\n",
              "    fill: var(--fill-color);\n",
              "    height: 32px;\n",
              "    padding: 0;\n",
              "    width: 32px;\n",
              "  }\n",
              "\n",
              "  .colab-df-quickchart:hover {\n",
              "    background-color: var(--hover-bg-color);\n",
              "    box-shadow: 0 1px 2px rgba(60, 64, 67, 0.3), 0 1px 3px 1px rgba(60, 64, 67, 0.15);\n",
              "    fill: var(--button-hover-fill-color);\n",
              "  }\n",
              "\n",
              "  .colab-df-quickchart-complete:disabled,\n",
              "  .colab-df-quickchart-complete:disabled:hover {\n",
              "    background-color: var(--disabled-bg-color);\n",
              "    fill: var(--disabled-fill-color);\n",
              "    box-shadow: none;\n",
              "  }\n",
              "\n",
              "  .colab-df-spinner {\n",
              "    border: 2px solid var(--fill-color);\n",
              "    border-color: transparent;\n",
              "    border-bottom-color: var(--fill-color);\n",
              "    animation:\n",
              "      spin 1s steps(1) infinite;\n",
              "  }\n",
              "\n",
              "  @keyframes spin {\n",
              "    0% {\n",
              "      border-color: transparent;\n",
              "      border-bottom-color: var(--fill-color);\n",
              "      border-left-color: var(--fill-color);\n",
              "    }\n",
              "    20% {\n",
              "      border-color: transparent;\n",
              "      border-left-color: var(--fill-color);\n",
              "      border-top-color: var(--fill-color);\n",
              "    }\n",
              "    30% {\n",
              "      border-color: transparent;\n",
              "      border-left-color: var(--fill-color);\n",
              "      border-top-color: var(--fill-color);\n",
              "      border-right-color: var(--fill-color);\n",
              "    }\n",
              "    40% {\n",
              "      border-color: transparent;\n",
              "      border-right-color: var(--fill-color);\n",
              "      border-top-color: var(--fill-color);\n",
              "    }\n",
              "    60% {\n",
              "      border-color: transparent;\n",
              "      border-right-color: var(--fill-color);\n",
              "    }\n",
              "    80% {\n",
              "      border-color: transparent;\n",
              "      border-right-color: var(--fill-color);\n",
              "      border-bottom-color: var(--fill-color);\n",
              "    }\n",
              "    90% {\n",
              "      border-color: transparent;\n",
              "      border-bottom-color: var(--fill-color);\n",
              "    }\n",
              "  }\n",
              "</style>\n",
              "\n",
              "  <script>\n",
              "    async function quickchart(key) {\n",
              "      const quickchartButtonEl =\n",
              "        document.querySelector('#' + key + ' button');\n",
              "      quickchartButtonEl.disabled = true;  // To prevent multiple clicks.\n",
              "      quickchartButtonEl.classList.add('colab-df-spinner');\n",
              "      try {\n",
              "        const charts = await google.colab.kernel.invokeFunction(\n",
              "            'suggestCharts', [key], {});\n",
              "      } catch (error) {\n",
              "        console.error('Error during call to suggestCharts:', error);\n",
              "      }\n",
              "      quickchartButtonEl.classList.remove('colab-df-spinner');\n",
              "      quickchartButtonEl.classList.add('colab-df-quickchart-complete');\n",
              "    }\n",
              "    (() => {\n",
              "      let quickchartButtonEl =\n",
              "        document.querySelector('#df-6a38f9ad-9b3d-414a-aae3-dc843d2006d9 button');\n",
              "      quickchartButtonEl.style.display =\n",
              "        google.colab.kernel.accessAllowed ? 'block' : 'none';\n",
              "    })();\n",
              "  </script>\n",
              "</div>\n",
              "\n",
              "    </div>\n",
              "  </div>\n"
            ],
            "application/vnd.google.colaboratory.intrinsic+json": {
              "type": "dataframe",
              "variable_name": "df",
              "summary": "{\n  \"name\": \"df\",\n  \"rows\": 2438,\n  \"fields\": [\n    {\n      \"column\": \"review_full\",\n      \"properties\": {\n        \"dtype\": \"string\",\n        \"num_unique_values\": 2319,\n        \"samples\": [\n          \"Jun 3 2009 \\tBeautiful Place\\tI stayed at Ascott for nearly 2 months! That is a long time to actually know the hotel staff by name - and trust me, the staff was genuinely very nice. I was undergoing training in Pudong and Ascott is one of the best places you can stay. With a nice view overlooking the river, Ascott offers all the luxuries that one can expect only from 4/5 start. One gets a good variety in food, though not so much for a vegetarian. Pool and Gym facilities are excellent.\\t\\nMay 31 2009 \\tSpacious clean and good value for Shanghai\\tMyself and some colleagues stayed at the Ascott for a week to attend a conference, having chosen the Ascott as being within reasonable walking distance of the (very expensive) hotels where the conference was taking place. The Ascott's accommodation is more geared to the long-stay traveller, but we were more than happy with the huge apartment-style accommodation. The one-bedroom suite was very spacious, with a bedroom, living/dining room with office space, separate galley kitchen, large bathroom and even a dressing room. It was also spotlessly clean, the maid came in every day and each day left two bottles of mineral water. There was a good array of complimentary toiletries and a large number of complimentary sachets of tea, coffee, green tea, creamer etc. Its easy to buy milk and other drinks from the small shop round the corner, as there was no mini bar. The only downside as far as I was concerned was that since the hotel caters more for long-stay guests, there are not really the facilities for refreshments that one would find in a regular hotel. There was no bar/cafe on site, only a room where the complimentary breakfast was taken, but this shut after breakfast time. As to the breakfast, this is best avoided as it is very poor. Go somewhere else for a better breakfast. Given that the Ascott itself is immaculate and very clean, I was surprised to find that the tables on which the breakfast was laid out were very unsavoury looking and seemed unclean, especially around the tea/coffee are. There was a lot of Chinese food available, but very little in the way of a Western breakfast, some sliced bread next to a very dirty toaster, some small dry rolls, and some jam and butter and yoghurt but that was about it. There were bacon and beans and some small omlettes but the bacon did not look right and most of the food was very unappetising. There were numerous staff at every breakfast, but their time might have been better spent cleaning the breakfast area rather than just hovering, chatting and getting in the way of the guests. Reception staff were quite helpful and organised a nice car from and to the airport at a cost of RMB 600 one way. The Pudong international airport is about 45 mins drive, locally one can take taxis at a very reasonable cost - the hotel will get one quite promptly -but bear in mind Chinese taxi drivers mostly do not speak English and also the Ascott is tucked away down a side road, so best show them the address of the hotel in Chinese and tell them it is near Marine Tower. Many taxi drivers do not know where the Ascott is, and also surprisingly they do not know many of the main landmarks in Shanghai. If they throw a wobbly, just get out of the taxi and get another one who knows where he is going. Overall, lovely accommodation, but be prepared to either cater for yourself in the kitchen, which has plentiful amenities, or go out to eat. Also, they do not exchange currency at this hotel, so you have to go to a bank or other exchange office. A final word of warning - it is difficult to get to anywhere walking at the moment in Shanghai due to the massive amount of building work taking place ahead of Expo 2010, which will take place summer 2010. You think you can walk somewhere, only to find your path blocked by a massive building site, and you have a 20 minute detour to skirt round it. The beautiful bund is also marred by huge amounts of building work at the time of writing. The whole of Pudong is awash with construction workers in orange hard hats.\\t\\nFeb 18 2008 \\tGreat place for long stays\\tI stayed at the Ascott on three separate occasions in the span of two years. I had a great stay each time. The one bedrooms are pretty roomy and the bathrooms are large. There is a fitness center with an indoor pool and tennis/badminton court. We rented the courts a couple of times. They are fairly well kept.There is a little minimart on the first floor in case need something quickly. Otherwise, it is pretty expensive.The only thing that needed improvement was the menu in the restaurant. It was pretty tiring to eat the same thing all of the time. However, there is a free shuttle that will take you to a large mall a couple of minutes away. This mall also has a supermarket. The only thing is that it will not pick you up, so you'll have to get a taxi back.\\t\\nOct 17 2007 \\tHighly recommend the Ascott\\tMy husband and I, as well as our 10 year old son and nanny, stayed at the Ascott for 18 nights, while we participated at a conference at the nearby convention center. I personally never left the Pudong side of the river, so can't speak to how convenient the Ascott would be for that purpose. For getting to the International new convention center (attached to the oriental riverside hotel), it was about a 20 minute walk, which was a couple of blocks from the SuperBrand mall. The Ascott has a shuttle which goes there several times a day (they even took us directly to the convention center when we asked). Taxis were always easy to come by from the hotel, though we were not usually leaving during rush hour. The taxi ride was fast and cheap.We had both a one bedroom apartment and a two bedroom apartment. I had read in a couple of reviews that things were getting old in the apartments, but that was not the case at all for us. Everything was clean, and in new or nearly new condition. We were told when we arrived that we'd been upgraded to &quot;executive&quot; apartments, so perhaps that made the difference. The housekeeping service was excellent, and the staff always friendly and eager to please. At the front desk there was always someone who spoke English quite well, and they were able to make sure our taxi drivers knew where we were headed. As other reviewers have said, it is difficult to find the Ascott, but most drivers were able to at least come close with the directions we had written in Chinese, and we could usually get the rest of the way by pointing. Only once did I have to get out of a taxi and find a new one because the driver had no idea - didn't read any language I think.I was not crazy about the breakfast, but there were a lot of choices if you don't mind eating things that westerners don't normally consider &quot;breakfast food&quot; I stuck mostly to the hard-boiled eggs and pastries. There was fresh fruit every day - usually watermelon and either cantelope or orange segments.As far as the beds being hard, in our apartments they were firm but quite comfortable. The comforters were very nice. The water pressure was fine in the showers, though I did try to remember to turn the water on several minutes before hand as it took that long to warm up.I used the combination washer/dryer frequently. It was very slow - took several hours to wash and dry a small load, but things did come out okay (somewhat more wrinkled than at home, but there was an iron and ironing board).The internet service was great. We had a problem with our modem the first couple of days, but it was replaced and we had no problems after that. I had thought there would be some websites I couldn't get onto in China, but I was able to do everything I wanted, and quickly.The food from room service was not fantastic, but was fast cheap, and adequate. The small market onsite was useful for getting a few items, but if you are going to actually be cooking you'll need to go to the SuperCenter at the mall. Limited dishes and cookware are provided, but a lot more is kept in a locked cabinet in the kitchen, which they opened for us on request in one of our apartments.The fitness center was kept cool and comfortable and while there was only one elliptical, which is what I like to use, there was never anyone else there when I went. My son played tons of table tennis - the charge for using the table was low (less than $3 per hour), but we paid more than that to rent the paddles each time, so I suggest you bring your own if you'll be playing a lot. We'd planned to play tennis, but the indoor court was not air-conditioned and was just to hot for us. My son enjoyed kicking a ball around the soccer field (with goals),and the outdoor playground looked cute for younger kids.Hope this helps. I highly recommend the Ascott for luxurious serviced apartment accomodations, especially if you have business in that area.\\t\\nAug 14 2007 \\tAscott is a comfortable apartment-like stay\\tI stayed at the Ascott Pudong Shanghai for 2 months from June to August 2007. Here are my thoughts. I had a two-bedroom apartment on a high floor. I appreciated the balconies (3 of them), as I could let in fresh air and enjoy watching the rain. I wish the housekeeping personnel would clean the balconies, though, as they were quite dirty (from the dirt in the air) and I tracked a lot of it into the apartment (on the white carpeting) when I walked in and out. It is true that the Ascott is not as new as it once was, but it is a very nice place. The apartment was spacious and there was substantial closet space. I wish I had so much in my house back in the states!The master bath was wonderful. I appreciated the adjustable shower (as I am only 5 foot 3 inches), so that I could reach the shower head. The bathtub came in handy, as well. The second bathroom was adequate (what I usually get in most hotels) and my son enjoyed having his own bathroom when he visited me. The bedrooms are very nice. The blackout curtains don't quite black everything out, but they do an admirable job. The beds are a little hard (okay, pretty hard) and take some getting used to especially for us who are used to more cushioning. The alarm clock never quite worked, so I used the wake up system on the phone. It never failed me!I asked for a DVD player my 3rd week there and wish I had asked earlier (or that they had told me one was available). It made things a little easier when I couldn't sleep at night. The kitchen was workable and I appreciated having all the utensils, pots and pans there for me. I could concentrate on cooking, not on buying cookware, so that was nice. The common areas of the hotel are very nice--marble and such. An understated elegance that I do appreciate. The little store on site is a bit pricy, but nothing like the prices at other local hotels, and I did appreciate that (for instance, you can get a 12 oz can of soda on the street for 2 RMB, in the Ascott store it was 3 RMB, but in another hotel nearby (which shall remain nameless), my colleages were asked to pay 20 RMB). The clubhouse is very nice and the workout room and pool (and jacuzzi) never appear too busy. I always found room when I showed up. I do wish the front desk clerk at the clubhouse didn't sneak off for a smoke in the office nearby--we can still smell it in the lobby!The grounds are beautifully manicured. There are walking paths, a soccer field, a small playground, trees, tables and chairs, and a see-saw. The Ascott also has a shuttle service that leaves at pre-designated times to local shopping malls and tourist locations. I only used it twice, but it was nice to know that I didn't always have to pay for a taxi to get where I wanted to go. The breakfast is not on par with the buffet at the Intercontinental or even the breakfast offered at the Sofitel in town, but it is palatable. It has a variety of foods: eggs, congee, mashed potatoes, dumplings, fresh fruit, juices, coffee and hot chocolate, breads... and it can get a bit monotonous, but it fills me up. The room service menu is a bit dicey, too. I ordered the jumbo burger and was served soemthing that looked nothing like jumbo (it was two small patties) and very little like a burger (I'm not sure it was meat--it may have been soy). But other items like the Spaghetti Bolognaise was wonderful. Besides, I tended to use Sherpa or other delivery services if I didn't feel like cooking. I appreciated the staff most of all. They were very helpful. There was a little miscommunication at first regarding the inventory of items in my apartment, but we worked through that very quickly. The staff took pains to remember my name and which apartment I was in. They always worked hard to fulfill any request I made. Jessica Fang is an outstanding front desk manager. She even took it upon herself to start up a class for guests to learn useful Mandarin and taught it herself. It was nice to learn some Mandarin and also meet fellow guests. All in all, the Ascott was a good address to have for the two months I spent in Shanghai. I would recommend it for longer-term stays.\\t\\nJul 14 2007\\tPros and Cons\\tThe room provides you every thing you need, but things are getting old here. The carpet is kind of stained and dusty that I can feel it on my feet. The living room are spacy...the kitchen is nice but I never use it. The walk-in closet &quot;look&quot; nice but &quot;smell&quot; terrible like a few pair of damp shoes were there before. The bath room is not as functional and is designed for 7-feet tall people. In the morning 9 a.m. the maid got into my bedroom (well, she had to pass my living room, kitchen and there was another door to the bed room) and I was shocked. She saw me asleep and yet she asked (well...people here are loud by nature) if I want to have the room cleaned (!?) The breakfast is terrible, I could only eat the soy milk. Coffee sucks, it was from dripping machine. Bread and pastries are limited. Street buns and dumplings taste better, I belive.\\t\\nApr 10 2007 \\tMy kids love this hotel!\\tWe went there on oct 26 2006. It was a large apartment with two bedrooms. There are three televisions and a big kitchen. There even have a garden with a small children playground. Everything are nice and we enjoy our stay. This is a very good choice for family with kids.\\t\\nJul 13 2005\\tLuxury service apartment in Shanghai\\tOur family of 4 stayed for 2 nights at The Ascott Pudong. We had an apartment with 2 bedrooms (1 king, 2 twins) and 2 bath (2 tubs, 1 shower). We were pleased with how well appointed the rooms were. From the living room, there was a view across the Huangpo river, although not exactly of the Bund. The kids were excited to find that not only was there cable TV, but also a DVD player and VCD player (with all those gadgets why go sightseeing?). The kitchen was small and sparsely equipped, but enough material was at hand to make simple meals. There was a clothes washer and the appliances were clean and looked quite new.The hotel provides a shuttle service to a few of the more popular destinations, such as People's Square and that big shopping center in Pudong whose name I can't remember. The shuttle service is one way, however. No shuttle to the airport. Breakfast was the usual mixed Chinese and Western fare, although, surprisingly, with less variety than we had seen in our 2 weeks of journeying through China. A small point - although our apartment was clearly set up for 4 people, they would only give us breakfast tickets for 2.Finally, one of the drawbacks of the hotel is its location in the financial center of Pudong - somewhat removed from the cultural and historical center of Shanghai. In the 3 trips back to the hotel by taxi over 2 days, we could never get any of the 3 taxi drivers to figure out exactly where the hotel was. Although its address is Pudong Avenue, it is actually tucked behind a set of tall buildings so that its front entrance is not visible from the street. On the plus side, the taxi fare is low - about 17-22 RMB (US$2 to 3) from the city center - and it's about a 10 minute walk from the subway.\\t\\n\",\n          \"\\tCold and arrogant staff in a great city.\\tThe hotel is nice, not as nice as it's sister property (Sheraton) just behind, but the staff at the Four Points can be summed up as being COLD! I am not sure if it was due to the weather, me being a foreigner or just them having a bad day. They lacked smiles, they never really greeted you upon check in. More like a factory producing widgets, in this case, giving rooms to the people that walk in with or without reservations.Don't get me wrong, after you check in it goes up hill, entering the corner room with a view of both PuDong and the Bund, unfortunately the SMOG (no fault of the hotel this time) did not do justice to the view that could be had! The location is about a 20 min taxi ride out of PuDong, and the subway system is a 5 min walk from the back door (facing the Sheraton) - for the mobility challenged, be warned, there are no escalators or elevators on the hotel side, I only saw an entrance on the other side of the road.The rooms are well furnished, I had a deluxe suite with 1.5 washrooms (and no goldfish bowl shower/ bath tub setup). There is an in room safe which I suggest everyone to use while traveling anywhere that offers one, not just here.As for the hotel, there is no exec lounge, so for those looking for lounge access, not available, the gym is a basic setup (no pool), and free Wifi in the lobby. I suggest anyone looking to use to sit near the back door as there are tables setup and 1 workstation available for those that did not bring their own PC.Now the food... the cafe on 2. I hit this place for the breakfast buffet. Service... very bare bones, never asked for coffee/ tea, and when I asked for black tea, they said they did not have any and only said chinese (yellow label tea), the coffee you can skip, yes they use a fancy grind and brew per cup but the coffee sucks and only luke warm at best! The coffee in room is 100X better tasting and HOT! As for food, you can skip the hot soy milk, it was burnt both days and I did mention this to the waiters and they only said it is like that... BURNT soy milk? maybe it is an acquired taste to the local shanghainese, not to us foreigners. the omlette station only makes one type of omlette and one type of egg preparations so save your breath with saying vegi/ egg white omlette, you will get a fully loaded omlette, and for the sunnyside lovers, it will always be over easy, no matter how many times you tell them, DO NOT FLIP THE EGG! Maybe it is my accent they do not understand. They are very slow to replenish the food stations. The second say, I did give up and just left to get a big breakfast from McDonald's as the coffee there was hot and the food was the same quality (not good but will do the job in a pinch) I would expect all over the world and not from an international hotel's restaurant. Maybe I am just picky or I woke up on the wrong side of the bed but I find there is a lot of room to improve or maybe this was a Corporate request to drop down their service level as they would be directly competing with their 5 star sister property behind them???I will book the Sheraton next time as the price was only 10% more but the facilities when I toured justified the difference.\\t\\nNov 22 2009 \\tBeautiful hotel 29 floors with panoramic restaurant at the last one\\tcentral position, close to metro, 10 minute walk from Financial Centre.free internet in the lobby, big room, king size double bed!\\t\\nNov 13 2009 \\tReasonably good hotel\\tI have stayed in this hotel half a dozen times during the past 2 - 3 years. I was surprised reading the kind of negative reviews prior to my latest stay and I was a bit worried when arriving.Fortunately I had a very pleasant stay, perhaps better than any of my previous stays. Also this time, my room was very nice and clean. Some staff was like in any other Chinese hotel and the most of them were very nice and polite.I would like to recommend the restaurant at the top floor. Usually I do not eat at the hotel restaurants, but this time and during my previous stay I had to do so due to my schedules. The noodle lunch is of excellent value and the great view is a bonus. The evening &quot;buffet&quot; is worth every RMB. It has nothing to do with the European &quot;buffet&quot; with tired food. For a fixed price you can eat as much as you want many types of Asian food: sushi, teppanyaki, noodles, ..... Everything is prepared on order and served to your table.The location is not perfect for a tourist, but the transportation in Shangai is very inexpensive. For airport transfer I would recommend taking the maglev-train. It takes about 10 minutes from the train station to the hotel. Based on experience, the train + taxi is faster than taxi from the airport.\\t\\nSep 27 2009 \\tstay away you can do much better at other hotels in Shanghai\\tI come to Shanghai on business often and have stayed at other starwood brand hotels. This time my spouse was joining me for a mini long weekend in Shanghai. This is the first time for me to stay at Four Point Sheraton Pudong. I Very disappointed by how poorly trained the front desk staffs of this hotel is trained and how poorly they treat their guest. I'm a gold member of Starwood program and have stayed at many of its hotels in US and China. The person who checked me in argued with me about my reservation and acted like he was doing me a favor for upgrading me to a room class that I booked online. The room was small even though it was the deluxe size, hate to see what the regular size room look like. The only starwood hotel that I'm being charged for using the sauna. The gym is small and poorly equipped. Though there were many choices for breakfast, food quality is way below standard and some just plain bad even for chinese hotel food. I travel extensively for business and this is by far the most disappointing experience I have for being a part of the sheraton brand. Stay at the Four Point Sheraton Daning, you will get much better quality of service and comfort all around at a better price.\\t\\nJul 4 2009 \\t4 points upon 10\\tHaving had great experiences with other Starwood hotels, we wanted to choose a Starwood hotel for our first trip to Shanghai to ensure a great trip. We decided to try out Four Points by Sheraton as it was new to us. The experience turned out immensely disappointing.Service:Service fell sharply of the upscale image the chain would like to project.No doorman or porter greeted us when we first entered the hotel. It felt like the hotel had recently underwent a retrenchment exercise; besides the three counter staff, there was no one else to be seen. At the SPG (Starwood Preferred Guest) counter we were served by a moody-faced girl who looked absolutely unhappy to be at work. She was not very competent in English so we switched to speaking Mandarin to hurry along the process. She was not only unappreciative, her attitude got worse.We were surprised by the large sum of deposit we had to give (CNY1500; we were only in Shanghai for 3 days and thus did not bring along a lot of cash), and after we had given the deposit we contemplated using a credit card instead. The girl made a big show of tearing up the receipt she had issued for the cash and had a look of extreme annoyance. We quickly realised we had forgotten our credit cards, and at this point she had forgotten all manners and threw the new receipt she had written without even looking at us. Seeing there was no manager around and also that we were on a tight schedule we did not pursue this appalling incident, but it had left us with a dismal first impression of Four Points Pudong.Throughout our stay, most of the staff we encountered appeared to be in a hurry and behaved as if we were in their way. They do not seem to realise that hotel guests are the very reason for them having their jobs. Out of the 15 or so staff we encountered during our stay, only the 2 concierges, the chambermaid and our checkout staff were pleasant. Rooms:The room was relatively modern and clean, possessing all the fittings expected of a Starwood hotel. The neutral theme was aesthetically pleasing. One nice touch in particular was the french press. The King standard room we received differed from the one shown on the website. Instead of the modern bathroom with a window to the room, we had a normal separate bathroom (with tub). Also, there was only a small armchair instead of a sofa (I supposed one person was expected to enjoy their coffee on the bed). The window was tiny, no bigger than two pieces of A4 paper, which rendered being on a higher level (16th) pointless. Overall, while not greatly detrimental, it was slightly disappointing as I had preferred the look of the room presented on the website. Pluses were the comfortable bed, 2 of 2 types of pillows, large tv (with foreign channels such as TV5 Monde &amp; BBC), and the lovely plaid carpet. One additional point to note is that the water temperature in the bathroom takes 5mins to adjust, so be careful with setting it too hot.Location:I can't imagine this place being a good location for anyone. While there was a metro stop (Tangqiao, line 4) right outside the Sheraton next door, it will take a minimum of half an hour to get anywhere one would possibly like to visit in Shanghai -- considering that the metro for this line generally took 10mins to arrive. Additionally, service on this particular line (and other newer lines) ended pretty early, around 10pm. Cab rides were faster but as you might know, cabs can be scarce when you need them the most and traffic can be horrendous in Shanghai. Cab fare from the Bund to hotel was about CNY25; CNY14 from Times square.The hotel area was quite gray and honestly not an area I would want to venture about alone. There was a 24h McDonald's right opposite the hotel, a beef noodles place and a convenience store, but that was about it. The entrance of McDonald's was crowded with pedicabs and their drivers -- who tried to cajole anyone within earshot into taking their pedicabs.We had flown in from Guangzhou so we arrived at Hongqiao Airport. While there was no fancy Maglev, we were able to take a public bus (938, alight at stop #15 Ningyang Road) which costed merely CNY6 per person and was a nice way for a first look at Shanghai. The ride took about an hour in good traffic. While the bus was not very clean (I feel confident in saying the curtains have not been washed in at least 5 years), it was still decent and the lady bus conductor was warm and helpful -- informing us personally of our stop and pointing the way to our hotel. Walking distance from stop to hotel was less than 5mins even with luggage. We also tried out taking the metro (alighting at Beixinjing and then taking a short, CNY21 cab ride) to Hongqiao Airport -- it was very inconvenient with the interchanges when you have luggage (at 1 of the interchanges we had to walk about 5mins to get to the relevant line).Cleanliness:Hotel and room were both very clean. No faults here. We had left our pajamas on the chair, and upon our return found them neatly folded by the chambermaid. Sadly this was the only hint of Sheraton hospitality throughout our 3-day stay.Value:If one were able to get an excellent deal during off-peak season and were solely interested in having a room to stay in, this hotel would perhaps be considered to be of good value. Taking into consideration the poor service and location, personally we felt this hotel to be of poor value -- especially for a Sheraton. Overall the experience feels 4 points all right -- upon 10. Definitely would not consider staying here again.\\t\\nJun 12 2009 \\tVery comfortable rooms\\tOne cannot fault the rooms of this hotel. They are very modern and everything you'd expect of a Sheraton. The views are fantastic, too. Breakfast is a reasonably good mix of Asian and Western choices.The location is not ideal if you need to be downtown as the traffic is horrendous. However, there is a very good metro next to the hotel which is extremely easy to use, clean, safe and reliable.\\t\\nJun 3 2009 \\tGood hotel but inconvinient Location\\tThis is a very good and new hotel with very good nice rooms and amenities. The hotel staff was nice but the location is not good but anyway nice to stay if you are on business trip.\\t\\nNov 2 2008\\tFour Points Shanghei\\tWe stayed here 10/29/08 for 2 nights. The hotel is in the new section of Shanghai, the Pudong area, east of the Bund. Traffic in Shanghai is horrible and so travel times anywhere is long. The room was spacious and very clean. We had a King on the 6th floor. The Breakfast buffet was very disappointing considering this is a Sheraton property. The Holiday Inns we stayed in previously were much better. For a vegetarian there were only bread and pastries to be found. There was some fruit, and hot meat dishes. Breakfast is on the 29th floor, so there is a view, although very hazy due to the smog. The rooms have French press coffee in them which was very good compared to the hotel coffee at breakfast. Actually the room coffee was very good coffee in general.\\t\\nFeb 3 2008 \\tGood Hotel with ample amendities nearby\\tOur company sent us there for our annual sales conference and i have to say that this is one of the better hotel that we have stayed in.It's clean, the front desk and service staff are friendly. The ballroom that we had our meetings in are well layout and comfortable.The only dislike i have of Four Point was it's location, it did'nt helped that it was snowing heavily when we were there and trying to get a cab to go downtown can be quite a hassle. Other than that, this is one hotel that i would recommend for travellers looking for a hotel in the suburb area.\\t\\nJun 2 2007 \\tNice hotel Poor location Unfriendly attitudes\\tWe came to this hotel on May 29,2007 at around 1 pm. At that time, no one in the lobby helping us for the luggage. When my wife check in for room, she ask if she as SPG member could have a better room, but the lady (NOT the trainee) told her that she need to stay in the hotel 25 times in order to have a better room and then gave her the key card of Room 702. We check in the room and I saw that there are many hairs on the floor, therefore I went down to the front desk to complain at once. Then they put us to another room, No.1616. It is same kind of room as 702 (comfort twin), but different floor and no hairs on the floor. During these couple days, I noticed that most of the staff in this hotel dont have a smiley face and dont understand English very well. To be honest, this is the first time we choose Four Points, but I dont think we will come back again to a hotel without a warm feeling. By the way, I would like to say thanks to Tony, Guest Service Manager. He is the one who can communicate with English. Talking about location, the nearest metro is 25 minutes walk, but they are building one underground.\\t\\nMay 28 2007\\tVery Pleasant Experience - Compared to the other 4 Points Property\\tStayed at this hotel for 3 nights over 2 different stays in May.Public Areas: Stylish/Clean. No pool.Location: Poor but 10 mins taxi ride to almost anywhere.Room: Nice and Clean. Free internet access. No tub but not sure its necessaryService: Prompt but the service industry in China just isnt as attentive and sincere as other leading Asian cities. When I asked for a complimentary shoe shine, the service was offered but the staff who came for my shoes gave me a mean look.I would stay here again, despite its location. My experience at the 4 points in Daning was simply too terrible.\\t\\nFeb 22 2007 \\tVery nice hotel but location is not central\\tThis was a very new, modern hotel with very nice rooms and amenities. The hotel staff was very friendly and helpful. The lobby and common areas aesthetically pleasing. The only negative is that the location is not very central. It is in a &quot;suburb&quot; of Shanghai. There is a busy shopping district that is less than a 10 minute cab ride away. Downtown Shanghai is a good 20-25 minute cab ride away.\\t\\nJan 8 2007\\tNice service inconvenient location\\tAlthough the services are basic and not very geared to the foreign tourist, the quality of service here couldn't have been nicer. All the staff were exceptionally pleasant (not true in all hotels in China), and also exceptionally responsive to requests. Nearly every request we had was acted on within 5 minutes.The downside of the hotel is its location. The hotel advertises itself as being next to a subway station, but in reality this subway station hasn't opened yet, and won't open until the end of 2007. The closest open subway station is a 20 minute difficult walk through a heavily trafficked sidwalks. The hotel is also in a commercially isolated area -- there are no restaurants or stores in walking distance of the hotel, making one feel stuck. The hotel is a good 20 minutes cab ride from the Bund. While travel by cab is not expensive, it can be very difficult to find an empty cab in the evening to get back to the hotel.While the decor of the hotel is pleasant, I sense there were some recurring issues with the hotel's physical plant. We had several problems with pumbling (clogged pipes, rattling pipes) occuring in two different rooms.\\t\\nAug 23 2006\\tExtremely clean stylish facilities\\tI would not hestitate to stay in this hotel over and over again if it were not for the terrible sheets/bedding. They were as hard as sandpaper and seemed like they had never been washed when they came from the factory.\\t\\nJun 27 2006 \\tBrand new discovery\\tThe Hotel opened doors on May 23, 2006, so everything is brand spanking new, so new it even smelled new. The building used to be the Grand You You Hotel but has been transformed entirely. There will be a Sheraton in the vicinity soon.Welcoming and elegant Lobby, friendly greetings - check-in staff was very helpful and changed my room when I asked for one with a bath-tub.The rooms are well-sized and clean - both in design and as such. Plenty of lights, with an impressive 32&quot; LCD TV, a friendly little sitting area, enough smartly placed mirrors, a truly comfortable bed. The bathroom has a window to the room - which is great since it lets in some natural light. And there is a privacy screen that descends on the push of a button when needed. Another nifty feature of the bathroom: an ambient light that is just perfect at night - enough to see everything but no blinding pain when you switch it on.There are other 'little things' that make the stay enjoyable: two free bottles of drinking water are sitting in the bathroom, and a fresh orchid was placed there as well to bring some colour to the plate, you also have the much appreciated coffee and tea to make yourself. There is an evening turn-down service, the in-room air-conditioning works great, but the floors were at times rather hot during this time of the year..The breakfast buffet is VERY complete and offers everything you can look for in a Western Breakfast with plenty of Asian options as well, there even is a chef preparing your eggs to order.The fitness facilities had a temporary home on the 28 floors (which still needs to be renovated) - but provided enough for a basic workout.So - this is an efficient and agreeable hotel, which was located just right for reaching the New International Expo Center as well as taking a quick trip to town, or the sights in Pudong. All in all, perfect for a budget conscious business traveller who stills wants style and convenience.Only one thing: I was repeatedly charged for items from the minibar which I hadn't touched during my stay. But I was able to sort things out quickly with the helpful staff.With everything being so new, staff sometimes seemed a bit overwhelmed - but once these last growing pains are sorted out, the hotel is definitely worth staying there. The Four Points was a safe, clean and truly comfortable place to stay.\\t\\nMar 23 2005\\tYou You So So\\tThis modern four-star &quot;business&quot; hotel in Pudong is not too close to anything. However, taxis are both cheap and exciting so that wasn't a major factor for us.The rooms are fairly large and well maintained. The mattresses are too firm for our tastes, but similar to those experienced in two other four-star hotels on the same trip.The breakfast buffet was plentiful in one sense, but repetitive and without too much for the non-Asian guest. The coffee, however, was excellent!The restaurant on the top floor had a great view, although the room itself was too bright, and we dined well for less than $20 for the two of us. The English translation allowed us to pass on such delicacies as Frog Soup in Green Colour and Stewed Pig's Rectum.The bar was a noisy and cramped space that we bypassed. The main-floor restaurant (where breakfast is served) doesn't have much in the way of ambience either. We did not visit the hotel's other two restaurants, beauty salon, or bowling alley. The outdoor pool was not yet open for the season.Lack of employee fluency in English was a surprise to us with so many tourists present, but possibly due to its niche as a &quot;business&quot; hotel. This led to a mildly annoying incident just before we left. A sign in the lobby advertises an airport shuttle about four times daily. Employees told us twice that we did not require a reservation. We still asked the day before departing, and were first told at the desk that there was NO shuttle. The concierge/bellhop desk then left us standing for upwards of 15 minutes before returning with a translation that the 8:00 a.m. shuttle was &quot;booked up. Sorry, have a nice day.&quot; Still, the shuttle is currently 40 Yuan each (about US $5), and the taxi ride to Pudong Airport (PVG) is about $120 Yuan, so the experience was at least as amusing as it was annoying.We stayed at the You You for a total of six nights in two stays as part of a tour package, and by definition it was excellent value. I wouldn't go out of my way to look for it again, but it met our needs.\\t\\nDec 19 2008 \\tOttimo se partecipi a una Fiera a Pudong\\t\\t\\n\",\n          \"\\tNot good value for money\\tI had to move over form the beautiful Novotel I was in because it was booked for an event. The Metropolitan smells like a brothel, and has a Stalinist staff. The rooms are large (huge by today's hotel standards) &amp; they are clean. But I think that it is a 3 star hotel charging 4 star rates. Many times, the rates at the nearby Taj and certainly the beautiful Novotel are lower than this dated hulk. The breakfast is depressing. I believe the internet rate in their bsns centre was $15 per half hour. But if you can find the intnt cafes a few blocks away, the rate is a couple of dollars per hour. They charged $1.50 for a local call of 2 minutes. Dubai is a v. greedy, money-obsessed destination.\\t\\nSep 23 2009 \\tFriendly Staff Good Service Good Location\\tThis was third time I stayed at this hotel, and I was perfectly happy with my choice every time. Reception staff are extremely polite and efficient, we had a early flight and they give us the room two hours before checking time.The room was clean, and had a brand new TV in it, each time we left the hotel we came back to find our room cleaned and towels replaced.Our electrical devices had different plug than the ones in room, when we asked reception about this they send us adapter immediately.I want to thank specially Mahmoud at reception whom was very patient and helpful and helped us to extend our check out time for two hours which was very convenient and we find a chance to use pool because of it.Thanks Metropolitan Deira Staff and managers to make our staying pleasant.\\t\\nSep 8 2009 \\tplease read before you book\\tWe stayed at this hotel in september after having other holidays previously at the other beach hotels for a change to be near the city for shopping and to try a city location hotel, the positive points were the cabs were readily available all the time, you could walk into the shops at city centre if you were brave enough to try to cross the roads to get there which we only did the once then choose to get cabs as it was far safer.Now for the hotel itself, we checked in was taken to our room then once we turned the air conditioning on -it blew a fuse every time we turned the tv on.After 5 minutes of this we heard a knock on our room door and it was a manager asking if the room was okay which we thought was strange so we think they already knew there was a problem with the electrics in this room, after 3 attempts to repair it they decided to move us to another room,which was okay apart from a greasy cooking smell which we couldnt quite figure out.Room service was very slow, it took 2 trips to bring a pot of water and another to go back and bring us a cup &amp; saucer for us to drink from!! The pub downstairs the dublin arms was so expensive-nearly six quid for a pint and three quid for a can of pepsi ,we were kept amused though as it was rammadan and we couldnt have any music so we sat and watched all the prostitutes at work trying to chat up all the men there on business, sometimes with success, the staff seemed to know the prostitutes as they knew them on first name terms.Staff in the pub were helpful enough(when they wasnt playing pool together ) Breakfast in this hotel was the same everyday NOT GOOD very poor basic selection,we waited so long one morning to get a cup of tea that we ended up going and pouring our own drinks, the staff were so so slow, we thought they had two speeds- slow and stop.We went on the free shuttle bus to the habtoor grand hotel twice and had to go via other hotels on the way while the driver delivered parcels to the other hotels, we never ever had this before doing deliverys in our time, we found this annoying when on the return trip home to our hotel that we had to sit and wait whilst the driver had a chat to the other hotel staff he knew when we just wanted to get back to get ready to go out for dinner.We personally would not stop here again as we felt it was just a hotel for business people and not very family friendly, nothing to do in this hotel regarding entertainment apart from people watching for yor own amusement in the pub.\\t\\nJul 9 2009 \\tClean and Comfortable\\tI arrived in DBX out of Kabul, with no res and needed a room for about 15 hrs. I booked it at the Hotel Res counter in the airport. They sent a car to pick me up (free) in 15 mins and checked me right in. The rooms are clean and nice, though be careul of the internet policy, after 40 mins you're charged the 24 hr rate, which equates to about $31. Otherwise I was happy to have a clean comfortable bed in a clean, quiet room. Walking distance to City Center and a few restaurants nearby, though the Irish Pub in the hotel looked quite enjoyable. Dislikes: High internet prices; also, I had prepaid for the room yet they still wanted a cash deposit during my stay for &quot;incidentals&quot;, I negotiated leaving my passport at the front desk instead. Also, at check out I had to wait 10 mins while they ran to the room to make sure I had not used the mini-bar. But the free mini-bus back to the airport allowed me to come and go from DBX without ever changing money.\\t\\nJun 10 2009 \\tGood not great\\tStayed here for 2 nights. Nice, comfortable room. Didnt face any major problems.Ate at the hotel only once and the food was ok. The location is very convenient for shopping etc. Its not a luxurious place, but certainly a good one.\\t\\nMay 29 2009 \\tConfusion and Lack of Communication\\tSecond time I've stayed there and while the staff is very friendly the hotel has some issues. There are no irons and boards in the rooms so you are forced to call for one. Housekeeping will say ok and then 45 minutes later you call again and they tell you they don't have any currently. This happened twice to me. They do offer free pressing to make up for it but it can pinch you for time in the morning. I was also forced to shift rooms due to a water leak in the room above. No problems with that but I was beat from the day and just wanted to crash, not deal with packing up and moving down the hall. No room upgrade was offered for inconvenience.Lastly the billing was total screwed up and I wonder if it will ever get straightened out.I would suggest the Sheraton Four Seasons as an alternative. Same price range, a newer building and things seem to work right there.\\t\\nApr 26 2009 \\tDesert vacation\\tGood hotel....spacious n clean rooms...had a major problem at check-in...the hotel was over booked.....n they were askin me to go to a hotel 10 kms away from the city center....finally managed to get a room...otherwise all ok\\t\\nMar 16 2009 \\tNeed a lot of improvement but it is not too bad!\\tStay there March 09 for the Tiesto Concert, actually just checked out yesterday. Our first impression to the hotel was the weird - disturbing smell at the lobby. We guess it might came from the restaurant at the Mezzanine floor. But no, it's not the food smell. We could not figure out exactly what it is. The check in process took too much time and the receptionists seem so upset all the time. At one point, my boyfriend mentioned if their salary would be deducted if they smiled.The room itself is quite alright, but not exactly like we saw in the picture. It was a smoking room but it had a clean smell which I do appreciate. Bathroom is too small and the shower curtain always stick to my body while taking shower. We also have a cute small balcony. But the wall is believed to be thin as I could easily hear the car horn and I could hear the toilet flush from, I guess, the above room. Room service staffs were helpful. The swimming pool was too small. It took only 5 seconds to reach another side of the pool, but the water was nicely warm! The location is great, 15 minutes walk to City Center and the taxi are there most of the time. Over all, it was not so bad comparing to the price we paid. But the cleanliness need an improvement big time!\\t\\nMar 4 2009 \\tGood Value Rooms\\tStayed here for 2 nights in feb 09. Clean rooms, comfortable beds. OK if you intend to visit Dubai city as a tourist you can walk to the Creek and the Gold souks in about 20mins. Only down side is the Dublin bar was empty at night and charged 7 for a pint of beer and 30 for a bottle of house red. It is not the hot spot of Dubai's nightlife.\\t\\nMar 4 2009 \\tA quiet location and reasonable value for money\\tWe stayed in this hotel for 7 nights in February 2009. We arrived at 1.30 in the morning but check-in was quick and painless. The staff were friendly and efficient. Our room (no. 619) was fine and had a very large and very comfortable bed. The pillows were too deep and firm for me but we had no problems getting them changed. We had a large flat screen TV, internet access, mini fridge, hair dryer and room safe, but unfortunately no tea/coffee making facilities. The bathroom was small but clean and adequate. The room was reasonably quiet, except for a fire alarm that rang briefly at 3am the first night (we never found out why). There was a bit of traffic noise from outside but not enough to keep you awake. The hotel had a small gym, separate male and female saunas, roof-top pool with loungers, a jacuzzi and a small bar. Pool towels were provided. The hotel is situated in an established part of Deira and it is not surrounded by building sites, unlike a lot of Dubai. It is not very close to the many of the sites of Dubai (which are all quite spread out anyway) so you do need to take a taxi everywhere. However, the taxis are very plentiful, cheap, reliable and safe. However, only use the official metered taxis as there are some rogue taxis, which charge you inflated prices. The hotel runs its own transports to its sister hotel somewhere close to the Dubai beach and they also run to Deira City Centre Shopping Mall. My husband had a birthday while we were staying there and the staff surprised him with a lovely, sponge birthday cake left in our room on the morning of his birthday.Buffet breakfast was provided in the main restaurant on the first floor, which was adequate with a reasonable selection of hot and cold food. This room also served as a buffet dinner restaurant in the evenings  the Al Riqa Restaurant. We ate here only one evening, which I think cost 89Dh per person. It was okay but nothing special. There was also a very nice Chinese Restaurant on this floor called Summer Place, which we tried on our last night and had a lovely meal. The prices here were reasonable and the staff friendly. On the ground floor was a tea lounge called The Royalton Lounge  again, the staff here were lovely. The hotel also had a pub called The Dublin Arms, which I think was appalling and I would hate any foreigners to think that this was a typical Dublin pub. It was dark, dreary and seedy. It had a poor selection of drinks. It allowed the patrons to smoke (which would certainly not be the case in Dublin). They served greasy crisps with your drinks. They also served meals here but the menu was not particularly appetising. We had just one drink there and didnt go back again. I have been to many bars in Dublin and they are not like this! If you want a good pub, try The Sherlock Holmes pub in The Arabian Courtyard Hotel in front of The Dubai Museum.\\t\\nFeb 3 2009\\tDon't expect any flexibility from this hotel\\tI can only add to other comments on the reception staff on this hotel. They are terrible - unhelpful and COMPLETELY INFLEXIBLE. I had read other reviews about not being able to check in early. Well it's all true. We arrived at 4:00am after a long overnight flight, at which point we were offerd the possibilty to check in early if we wanted to pay an additional 60 ! We naturally declined . This obviously meant that the room was vacant, and considering we'd just come from South East Asia where if a room was vacant there was never an issue to check in early with no charge, and this was all standards of hotel from moderate to expensive hotels. Having decided that we were not going to be ripped-off we decided that we'd once having slept in the foyer for a bit , to go exploring when light and return at the appointed check in time which was 12:00pm. In the end we returned to the hotel at 11:30am. At this point we attemped again to check in but were told that we couldn't as it was company policy (yet we knew the room was empty !).At that point having had very little sleep I forcibly expressed my dismay and utter incredulence at this attitude. But I was still told check would be 12:00pm as they 'needed to prepare the room' - utter nonsense of course. In the end we did end up checking in 20mins early. Once you get past the Nazis front desk (they were always miserable and unhelpful) the rest of the staff were very pleasant and helpful. However the attitude of the reception has put me off ever staying in this hotel ever again. Rooms themselves are basic and not too clean either\\t\\nJan 22 2009 \\tGood all rounder\\tI booked this hotel because I need one nights accom nearish to the airport and had stayed in this hotel previously 2 years before. Another reason I booked was because I enjoy the Irish pub on the left as you walk in. Rooms are basic, lots of amenities in the bathroom, clean, full bath and shower with clothes rail, hair dryer, window in bedroom opens. Bed comfy. I paid about 60 for one night which wasn't too bad, I booked with the hotel direct. Not recommended if your in Dubai to do all the touristy things, this is an airport hotel.\\t\\nDec 26 2008 \\tA Great Place\\tI had to stay at this Hotel as it was the company's choice. I found the staff friendly and helpful. The room was very nice and comfortable. I also enjoyed the Summer Place Chinese Resturant which I thought was quite good. I would stay here even if it was my personal choice and not the company's. Its an excellent hotel for the business traveller.\\t\\nDec 3 2008 \\tToo basic\\tI would never stay again in this place. Rooms are too basic, elevators are cleistophobic, lobby are below average. Should only be your last option in Dubai. However, staff is really gentle and pleasant\\t\\nNov 19 2008 \\tConvenient Metro\\tStayed at the Metro in September and I must say that if you are travelling on a tight budget and still desire comfort and a serene room, Metro is the place to stay. I arrived at midnight and rooms were easily avialable. Given it's location in the middle of active deira, I didn't expect much, but on getting into the room, I wished I had travelled with my spouse. I paid $100 per night which I found so cheap. The room was clean with proper air conditioning and tv. I was there for only two days. Despite it's location in the city, the nights were peaceful. I found it quite a distance from the central parts of dxb and was only saved on the cost of cabs by a friend who showed me around for a cheaper fare.The directory in the room was useful in helping me find what i came to buy. My only complaint was the 2 minute call that I made to Uganda, East Africa from the room phone which cost an arm and a leg. Don't know whether it was the hotel being extortionate? Parking for pick-ups and drop offs was also a challenge. U have to park a block or two away. The front drop-off is ever full and police is always on hand to fine drivers who stay al little too long. They should've considered underground parking.The mini bar was well stocked and promptly replenished. This was cheap as well.On the whole, &quot;never judge a book by its cover&quot; ... the environment on the outside might scare you away, but on the inside, it's unbelievable! Another plus was the availability of a weighing machine for your luggage preparations.\\t\\nNov 18 2008 \\tVery good hotel\\tI stayed in this hotel for a week in October 2008. The summary is below:Bad things: Couldnt check in until 12pm even though we got there at 11am so had to wait an hour which wasnt great after a long flight.It is very hard to get a taxi from the hotel as it is just off a main road and the hotel couldnt get one as wellGood things:Clean roomgood staffnice poolGood food, basic breakfast but sufficientdecent location, lots of restaurants 5/10 min walk awayclose to the airportdecent minibus facilities to jumeraih beach and the city centre mallOverall the hotel was very good bar a couple of things both which were not that bad in the end. I would recommend the hotel as it is price effective\\t\\nNov 16 2008 \\tAbsolutely great\\tGood value, very friendly and helpful staff, convenient location and very comfortable. Thoroughly enjoyed our stay and took daily advantage of the rooftop pool. What you see is what you get - and not one of the many &quot;style over substance&quot; hotels that I have stayed in before. Thank you\\t\\nNov 4 2008\\tVery Basic\\tI've actually stayed at the Metropolitan Deira a few times. Each time, I've had some sort of hassle with the staff. I'm pretty easy to please, so this is unusual. But it's one of the cheapest yet decent places in Dubai so I kept going back. Here were my problems.1. First time I checked in (11:30pm after a long flight) they said they'd &quot;misplaced&quot; my reservation. They left me sitting in the lobby for over an hour. They told me they were going to send me to their sister hotel. Then they managed to &quot;find&quot; an available room. That room was there the entire time. Never got an apology.2. The second time I stayed there I arrived a couple of hours before the official check in. I made sure I'd informed them I'd be requiring an early check in and they'd told me no problem. When I showed up, they said they'd have to charge me for an extra day. Why hadn't they told me this when I'd informed them earlier? They told me to have a seat in the lobby and they'd look into it. Finally, after an hour I asked what was happening. They said they hadn't yet looked into it! They just left me sitting there. I paid extra for the room and they sent me a complimentary fruit basket.3. The third - and final - time I stayed there was this past August. When I returned to my room from some meetings, I found that all the business receipts I'd had organized on the desk were gone. I got the housekeeper and he said he'd thrown them away - as though this was perfectly natural. I'd been traveling throughout Asia and it was all my receipts plus some warrenties for office equipment I had purchased. All of them were gone! Maybe you throw away a banana peel, but unless it's in the bin you don't throw away a guest's paperwork! I complained to management and was told if my papers were important they should have been kept in the room safe. Pretty insufficient response in my opinion. I'd like to meet the business person who locks up their receipts every night.I won't be staying there again. But if you need a cheap, clean room and don't think you'll require ANY customer service, then feel free to stay there.\\t\\nAug 26 2008 \\tA great place to stay\\tAs a single, asian, female, travelling alone in Dubai I was a little worried. My biggest concern was to ensure that I found good accomodation. I did all the research I could before leaving the UK and read a number of reviews about this hotel (and many others) on various websites. There was a range of opinions which confused me!!As you may know there are hundreds of hotels in Dubai and everyone has a different experience. I decided to bite the bullet and booked this hotel. The hotel staff were really friendly and couldn't do enough for me. The room was clean and the rooftop pool was a bonus. Daily papers in English are delivered to your room every morning and the tourist information provided in the room was useful. I ordered room sevice a couple of times and it was good. I also visited the Dublin Arms bar which is on the gorund floor and wasn't hasseled by anyone.I have travelled alone to many places and I have to say that this hotel is up there with my favourites. It is definately good value for money.\\t\\nJul 17 2008 \\tConvenient for Stopover\\tThis hotel cost me about Eur120 a night in March 2008, which was plenty for 3star accommodation. The room was adequate, perhaps a little basic, but suited me as I spent little time there. I visited the pool on the roof one evening, which I had to myself, save for 2 elder couples on deck chairs. The water was warm, though at 5pm the pool was in the shade. There was a good choice at the buffet breakfast the next morning on Level 1 with several newspapers from the region to choose from. There are some restaurants and a bar in the hotel also, though as I didnt frequent them, I cannot comment on them. The hotel is located in the Deira region of the City, quite close to the airport (Eur5 in a taxi) and about a 10 minute walk to the Deira City Centre Mall. This is one of many large modern shopping malls in Dubai with plenty shops of all kinds to choose from. It was from here that I started my journey on a Dubai Big Bus tour (Eur 35 approx). Its convenient as Deira is one of just a few places that you can choose both the Red and Blue routes. These are a good way of seeing the entire city, and include a stop at the beach and a boat ride along the Creek. As might be expected, the vast majority of noteable sights, were 5 star hotels and large shopping centres. The hotel organised a taxi to the airport for me at 6am the next morning, a journey which took no more than 10 mins. On a 2 day stop-over, this hotel suited my requirements as it is close to the airport, close to a mall and convenient for a city tour which stops at the beach.\\t\\nJul 2 2008 \\tCustomer focussed Management\\tAs a business traveller who travels to Dubai once or twice a year and have not found a hotel in Dubai that consistently delivers, I decided to try Metropolitan Diera this time and was not disappointed. While the initial room that I was given had some air conditioning noise coming from outside i requested and was provided with a new room without hassle.There happened to be a rugby test on the day that I arrived and I happened to run into Pradeep the Duty Manager who arranged to have this shown in the pub. From this time on until I left some 5 days later Pradeep always asked how things were and I was very impressed with the service received.Had a meal in the Chinese restaurant one evening and the waitress Angel was great. The culture in Dubai seems to be not to take responsibility or to make decisions but Angel was prepared to recommend dishes and discuss choices. Following her recommendations was well worth while and rewarding for the quality of the dishes selected.Overall a good hotel at a reasonable price and well located in Deira.I will return.\\t\\nJun 14 2008 \\tNice hotel\\tIt's clean and nice hotel, but little bit old.there is a pub in the lobby, so it'll be crowded by nightthe hotel have a private car parking in the basment, but it's difficult to get in or out withought scratiching the car, becouse the entrace and exit of the car parking too small.\\t\\nFeb 15 2008 \\tvery good staff\\tWe spent five nights here on the way to the maldives, we where looking for a more central hotel opposed to the beach hotels thinking there would be more to see and a lot more choice of places to dine at in the immediate area, found it to be the correct decision after going to the sister hotel at the beach for a day. The beach hotels are nice but they are in a building site with not a great deal there from what we could see !!!. The hotel runs a shuttle bus to the beach once a day and the deira shopping mall twice a day . Found the mall at deira better than the mall of the emirates,but thought that the prices in the shops in dubai are about the same price has in england only thing that is cheaper is gold at the gold souk. The rooms are of a reasonable size, clean and functional . The room we where given had a balcony at the front of the hotel with not much of a view but then it is in the city so it was expected. The breakfast wich is a buffet i found to be good and filling.There is a small swimming pool on the roof with towels supplied, with space for a few sun loungers, there is also a small gym and sauna .The bar at the hotel wich is like an irish theme bar is interesting !!!!,my wife and i went there most nights the staff are nice and freindly, has are all the staff there. If we ever return to dubai we would use this hotel again.\\t\\nFeb 2 2008 \\tThis place is alright!\\tI have seen this hotel several times when in Dubai, but never really thought about staying there. There is an Irish bar in the hotel, which I am not sure if it is still open when I was there.One thing that should be known about the hotel is caveat emptor, let the buyer beware, and book via their website if you want the best deal. Calling them will only give you a headache when they want to charge almost 2x as much as on the website. Also, just take the cheapest option, the lower floors. My colleague too the more expensive option for higher floors and was a little angry when we compared rooms... mine was exactly the same!! So avoid the small rip off, take the cheap rooms.OK, so the hotel itself is right at the Deira Clock tower round about, but the front doors are in a little side street just off the main one. The taxi driver should know how to get there. Be careful to make sure the driver knows which Metropolitan, this is the one at Deira.The rooms were actually very good and were a lot better than what I had expected for the price. The bathroom was very clean and the room was also. The bed was very comfortable and the rooms were very quiet, except... the music in the hallway, it was very loud! I could hear it in my room... and on the first night, a fire alarm was conveniently being tested at around 2230hrs.. handy.The area is about a 5 minute walk from Al Rigga street, where you can pretty much get anything you like. But there are also some other little local eateries around the area. Other than that there is not much going on and its kind of nice to have a quiet hotel in Dubai. Please remember, this is a hotel, not some resort.The internet was overly priced and was quite slow... if you use it for 40 mins, you end up paying the 24hr price, perhaps thats why it was so slow... however if you feel like it, just walk around the neighbourhood and you will soon have your pic of unsecured wireless connections.\\t\\nOct 7 2007 \\tLovely comfortable beds\\tWe stayed here for three nights at the end of a busy 4 1/2 week cruise/european holiday so were looking for a bit of r&amp;r and some shopping. It was 43deg with 90% humidity while we were there and it was also Ramadan. Our room was lovely and spacious with big windows overlooking the street. The airconditioning didn't seem to work as well as it could of, maybe it was suffering with the humidity too. Beds were king size and really comfortable which was good because we had had some pretty uncomfortable sleeps elsewhere. Shower worked well and had good pressure. We had a de-luxe package and received a bottle of red wine on arrival, 1/2 hour internet access daily, a fruit bowl and bottled water every day as well as breakfast, all included. Breakfast was nice with a good selection of food and lots of wait staff to fill your coffee, tea cup etc. We found the staff very helpful and friendly during our stay and ate in the Irish Bar one night which was nice food and good service.\\t\\nOct 4 2007 \\tLovely hotel with incredible service\\tFirst time staying in this hotel , but it will definitely not be the last. Extremely well trained staff.\\t\\nAug 24 2007 \\tGood hospitallity\\tIts an above average Hotel. Cheap and near shopping Malls.Dont excpect something from that place except from the nice people that working there.If ill go again in Dubai ill not stay there not because there were something wrong but because there are better Hotels.\\t\\nJul 19 2007 \\tNot very bad not very good...\\tThe Metropolitan Deira has a good location at the clocktower roundabout, which is about 10 minutes from the airport. You have to take a taxi to see anything, but I guess that's everywhere, since Dubai is quite extensive.We asked for a room on a low floor in the reservation, but there wheren't any. We could stay in a luxuous room for 1 night, and than move to an other, normal room. Since I didn't like to move after 1 night, we had to pay for the 2nd night in our luxurious room.Beds are fine, room was clean and big, view on the clocktower roundabout (I guess other rooms have no view since there are standing other buildings around the hotel) breakfast was ok...So it was an ok hotel, but for october I've booked another hotel in Dubai...\\t\\nJul 17 2007 \\tnice hotel\\tI have stayed at this hotel several times and often request room 501 .The rooms are fairly spacious and well equipt bathroom as well as mini bar and room safe and the beds being very nice as well. There is a small roof top pool which is never crowded in the two weeks i was there which was well maintained. There is a good buffet breakfast and irish pub in reception. The staff are very good and friendly. Although this is certainly not the best or most luxuarious hotel in dubai i find it very convient to the shopping centers. There are one ot two very minor areas of the hotel that need a little refurbishment but find that in most establishments but all in all a very nice hotel i would return to again meet some really nice people there as well given the price i was very satisfied with this hotel.\\t\\nJun 19 2007 \\tOk but wouldn't stay again\\tI stayed in this hotel for a number of reasons, but mainly that it was a great rate ($88/night for a twin room) and I was paying myself! There is nothing particularly wrong with the hotel or its quality of staff. Everyone I spoke to was polite and helpful, if not gushing with enthusiasm. Suneer in the breakfast room was the exception - very helpful and friendly. We (my son and myself) stayed three nights in June 2007.I also booked the hotel because it was in Deira. Knowing Dubai traffic I wanted something the same side of the creek as the airport. However that was my first mistake. All my business was over in Bur Dubai or further afield - it took me almost 45 minutes one day just to get over the creek.The hotel: Breakfast - Ok but pricey at Dhs69 for the pretty ordinary buffet. Location  can be a nightmare to get a cab; we had to walk on many occasions, and in 42 deg heat that can be exhausting!Internet  extremely pricey. Dhs 100 for 2 hours. Go to the internet cafes just a block away for at Dhs 5 for one hour.Room  Ok, did the job. Bathroom not the largest, no plasma TV, but free slippers. But clean and towels replaced regularly.Summary: a decent hotel, but dont expect anything more than the four stars it maintains. The location lets it down big time in my opinion but the rate I got (through Hotels.com) was excellent. I would not use the hotel again, but this is down to location.\\t\\nMar 19 2007 \\tGreat Hotel\\tHaving read some previous reviews about the Metropolitan Deira in Dubai I was a bit sceptical about booking a single room there. However I found the staff very friendly, the hotel was very clean and all the facilities were excellent. The only down side was that I arrived 7.00am after a long flight from Singapore and was told I would have to wait 5 hours for my room or pay 28 to have it by 8.00am. I put my case in reception and decided to lounge around on one of the many comfortable settees until 10.00 when I took the complimentary bus to the town centre for a couple of hours and came back, checked in and had a sleep for a few hours. It would have been nice to have had coffee/tea facilities in the room but having read on Trip Advisor that these were not a facility, I took my own travel kettle etc. I have stayed in 5 different hotels in Dubai over the last few years and this was definitely the best value for money. I would be disappointed if I could not get a room here next year.\\t\\nMar 11 2007 \\tnot an exhilarating experience\\tOk for a one night stop, but they run a scam whereby you are booked, confirmed, met at the airport, then they say they didn't expect you at this time and unfortunately, its before mid day so you will have to pay an extra 40.00 to have the room early.I will not be using them again. Robert Brown\\t\\nDec 27 2006\\tOK Hotel but rude staff\\tI have been to Dubai a few times and stayed at the Met hotel on Sheik Zayed Rd (which is a good hotel), so thought it would be a nice change to stay at the Met Deira. I would have to say I would not go back. The staff on the front desk are surly and unhelpful. They do not smile and seem to make it their job to be as unhelpful as possible, which is a shame as it turned what would have been an OK stay into one that was not good. The rooms were acceptable for the money and the restaurant, while being underwhelming, is what you would expect for the money - so from this perspective, while not being great, there is nothing wrong with the hotel. The location is OK (and is handy to the airport).Overall, I was pretty disappointed, and given the selection available in Dubai, would not bother with this hotel again.\\t\\nDec 15 2006 \\tConvenient for a short stop-over\\tThe Metropolitan Deira is a convenient hotel for a short stop over. Do not expect any fancy extras.The hotel is situated 10 minutes from the airport, near the clock tower. The advantage of staying in the City Centre is to avoid the eternal traffic jams at Sheikh Zayed Road where many of the newer and pushier hotels are situated.Check-in was swift and the room standard for a four star hotel. Some of he functionalities of the room are outdated. There is a combined telefax phone that probably no one uses, so its best to unplug it for laptop use. There is still a telephone that rings in the bathroom. The TV is small and old. Wifi is not available nor any decent internet connection.Hotel guests are not bothered in the Metropolitan Deira by a noisy night club, as it is often the case in Dubai City Hotels. The Dublin Arms pub is situated at the lobby level. The prices are affordable for Dubai. The pint goes at AED 22.and from 6-9 pm 20% discount is given for happy hour.The breakfast is dull and did not leave any memorable impression. Omelettes and eggs are freshly cooked. Two big shopping malls that are in walking distance are the City Centre and Al Ghurair Centre. Many shops selling designer cloth at rock bottom prices can be found at Al Rigga Road or the surrounding streets to the Hotel. An inexpensive traditional Chinese Restaurant is just behind the hotel near AVIS. They do not serve alcoholic beverages, but excellent food. A full meal for two will not cost more than USD 30.--.The streets around the clock tower are known for the fact, that young ladies offer their company. Single men are often gently approached and that already from 5 pm. Its Dubai and it still remains well orderly. Convenient and affordable for a stop-over; but not for those looking for the thrill of modern Dubai.\\t\\nNov 3 2006 \\tExcellent Value For Money\\tLike a lot of people visiting Dubai, I was put off by the high hotel prices and a bit worried about the level of service and facilities I might expect if I wasn't paying a high room price.If you're looking for a central place for a stopover (which my stay was) or business, however, this hotel is excellent value for money and definitely to be recommended.Unusually for me, I can't think of anything negative to say about it! The room was really nice, four-star standard. I arrived about 7am, but only had to wait half an hour for a room; and as there were people sitting in the foyer every morning waiting for rooms, it seemed to be standard policy to allow an early check-in.The swimming pool was, as others have noted, not the biggest, but as a regular swimmer I found it still adequate to get some exercise as well as a cool-off.The hotel has a shuttle bus to a sister-hotel by the beach, and also from that hotel you can get another shuttle to a couple of large shopping centres, so that was a bonus free service.Not all the staff at reception speak great Engish, but things are usually sorted out easily, and they were all very friendly. It's not a resort hotel, so if you're after a beach holiday you wouldn't be interested; but for a touristing and shopping stopover like mine, it was perfect.\\t\\nOct 23 2006 \\tVery friendly staff and efficient service\\tMy parents and I stayed here for almost one week in October 2006. I booked the stay last-minute on the way back from India and received a reasonable rate for the room, while my parents booked it a month in advance. They also received a reasonable rate.I was picked up from the airport and driven to the hotel in a comfortable car, although if there had been a number of pick-ups I think the minibus would have been utilised.While I was checking in it became apparent that the description of &quot;city views&quot; (from Opodo) does not apply to this hotel.Nonetheless, the check in was smooth.On entering the room, I was pleased to find that the room was a reasonable size and more importantly, the standard of cleanliness was very high. This standard of cleanliness was maintained for the duration of my stay. Also, I found that housekeeping would change my towels twice a day, or at least check if the towels needed replacement.The TV was quite old and the channels were rubbish but I don't go on holiday to watch TV - there were two English peaking news channels (CNN and Sky News) so that kept me up to date on current affairs which is all I really want to watch TV for when I am on holiday.The rooftop pool is quite small but okay if you want to catch a quick couple of hours sun by the poolside. There is a bar next to the pool but I did not get the chance to try it out due to Ramadan. My family and I spent a lot of time at the Habtoor Grand Resort Hotel's pool and beach - there was a special offer that I got access to this pool and beach (and ransport there and back) for only 20 Dhs. My parents got it for free as they paid a higher rate for their room. It is worth checking if this free/20Dhs special offer is available as I think the normal 70Dhs price is maybe a bit too expensive just to use another hotel's pool and beach. That said, Habtoor's pool and beach is beautiful.The staff at Met Deira are very friendly and very helpful. This made the stay at the hotel so much better - they always acknowledged you as you walked by in the corridor and somehow the girls at reception always seemed to remember our room numbers!I would definitely recommend styaing here - it is not the lap of luxury but it is comfortable, clean and pleasant. Worth every penny.\\t\\nOct 1 2006 \\tcomfortable friendly hotel\\tComfortable, pleasant hotel close to Diera City Shopping Mall. The hotel itself is nothing exceptional, but the staff are helpful and friendly. The rooms are basic, but very clean and the airconditioner works a treat! If you put your own drinks in the fridge be sure to drink only yours, or you will be charged if you drink the hotel's even if the are the same.The hotel is close to Deira City Shopping Centre which is a plus and there is a shuttle bus to and from, however it is also a very inexpensive taxi ride.Dubai in summer is very hot and so are all the swimming spots. Thought I might cool down in the hotel's pool, but it was like a hot bath.......so is the sea however. I'm sure winter is the best time to visit the Emirate........I would try to avoid summer here again.\\t\\nJul 18 2006\\tI always stay here its fab\\tEvery time I go to Dubai I always stay here. Its on the better side of Dubai if you are a shopper. Its minutes away by taxi to the Gold Souk and the hotel provides a free shuttle to the City Centre Mall which used to be the biggest but they now how a new and bigger mall. They also run a free shuttle to their sister hotel on the beach and you get use of the facilities there. The hotel rooms I have stayed in have always been very clean and nice and the staff I have found to be very friendly and helpful. The breakfast is a huge buffet and is wonderful. There is a chef onhand to cook you omelets! They do charge extra if you want to check in early so best book the night before if you need to check in early. Otherwise do what I do, dump your bags with the bell boy have breakfast and hit the malls! Well definately be back to this hotel.\\t\\nMay 26 2006\\tPrevious review a bit misleading\\tMy husband read the previous review and was really worried about the hotel and it put a damper on our holiday to start with. We got to the hotel at about 6.30 and I didn't check us into the hotel the night before, so we did have to wait till about 10.30, but this didn't affect us as we had been to Dubai before. I knew that we would have to wait (normal check in is at about 12 or later), so if you don't want to wait around with nothing to do then I advise you check in for the night before. The rooms were clean &amp; tidy and spacious. The staff were friendly and polite to us - they came around during the day to ask if you want fresh towels too, so above average service.The pool is not very big, but if you want to go to Dubai for the beach/pool then you should go to a beach hotel as all city hotels don't have very large pools.We had to pay 75dhms to go to the Habtoor beach hotel, but what a lovely hotel it is - you really can't complain once you get there.This hotel is just off Al Rigga road, so plenty of places to eat &amp; there are a couple of malls nearby. It's very central. The hotel has transport to city centre as well as jumeirah beach park &amp; beach hotel.We didn't hang around the hotel restaurant much apart from breakfast - so wasn't too bothered about the restaurant appearance.All in all, I really enjoyed my stay there - the rooms were on par with a four star (same as the rooms at the sheraton deira we had 2 years ago).\\t\\nFeb 20 2006\\tMetroploitan Deira.Dubai.\\tMy Son and I stayed for 6 nights at this Hotel B&amp;B. The Hotel is clean and tidy, but the photos they provide on line must have been taken some time ago! The majority of the staff are polite and friendly but the Reception staff are sometimes a little abrupt/unhelpful. We arrived exhausted, after an overnight flight, at 9am Dubai time. We had to pay 157 dhs to occupy the room 3 hrs early, we were also not entitled breakfast. The pool area could do with a refurbishment, sunbeds are in short supply, you do get provided with towels and the pool attendant was very helful, the pool itself was kept clean and water tested daily. Food/Room service was excellent, breakfast plentiful, good choice. Rooms cleaned well daily, inc fresh towels. Lots of traffic noise at night. UK plug sockets in room, so take kettle as they do not supply them.A free bus runs to the beautiful Habtoor Grand Hotel on the beach, which is really gorgeous, it cost 75 dhs each, food &amp; drink there very expensive but great. The Habtoor/Metropolitan also need to update the photos because it is totally different &amp; now dwarfed by partially built sky scraper hotels! which you come to expect in Dubai at the moment, but this doesn't really detract from the lovely environment.The photos on line must be ages old.Metrolpolitan Hotel not particularly child friendly, staff/service not what you expect from Dubai. Some issues regarding charges they wanted to levy re transport to airport when we left, will check my account carefully as they photocopy your credit/debit card on arrival. We did have a great holiday, but I guess expectation of Dubai always high and felt a little disappointed.\\t\\nJun 25 2008 \\tUnverschmtes Management: Stornogebhr bei vorzeitiger Abreise\\t\\t\\nJan 27 2008 \\tvorsicht beim metropolitan deira in dubai\\t\\t\\n\"\n        ],\n        \"semantic_type\": \"\",\n        \"description\": \"\"\n      }\n    },\n    {\n      \"column\": \"date\",\n      \"properties\": {\n        \"dtype\": \"category\",\n        \"num_unique_values\": 357,\n        \"samples\": [\n          \"Aug 1 2009 \",\n          \"Nov 21 2009 \",\n          \"Sep 7 2009 \"\n        ],\n        \"semantic_type\": \"\",\n        \"description\": \"\"\n      }\n    },\n    {\n      \"column\": \"summary\",\n      \"properties\": {\n        \"dtype\": \"string\",\n        \"num_unique_values\": 2224,\n        \"samples\": [\n          \"Nice place to stay in the city\",\n          \"Excellent Excellent Excellent\",\n          \"Horrid\"\n        ],\n        \"semantic_type\": \"\",\n        \"description\": \"\"\n      }\n    },\n    {\n      \"column\": \"details\",\n      \"properties\": {\n        \"dtype\": \"string\",\n        \"num_unique_values\": 2317,\n        \"samples\": [\n          \"Loved it! One of my favorite hotel's that we have stayed at in Chicago. Great room, great breakfast, great location. Everyone we came in contact with was so pleasant. The lobby was beautiful. The room in nicely updated - and breakfast was delicious. Hopefully we get a chance to stay here in the future and most defiantly will recommend it to our friends.\",\n          \"The hotel is nice, not as nice as it's sister property (Sheraton) just behind, but the staff at the Four Points can be summed up as being COLD! I am not sure if it was due to the weather, me being a foreigner or just them having a bad day. They lacked smiles, they never really greeted you upon check in. More like a factory producing widgets, in this case, giving rooms to the people that walk in with or without reservations.Don't get me wrong, after you check in it goes up hill, entering the corner room with a view of both PuDong and the Bund, unfortunately the SMOG (no fault of the hotel this time) did not do justice to the view that could be had! The location is about a 20 min taxi ride out of PuDong, and the subway system is a 5 min walk from the back door (facing the Sheraton) - for the mobility challenged, be warned, there are no escalators or elevators on the hotel side, I only saw an entrance on the other side of the road.The rooms are well furnished, I had a deluxe suite with 1.5 washrooms (and no goldfish bowl shower/ bath tub setup). There is an in room safe which I suggest everyone to use while traveling anywhere that offers one, not just here.As for the hotel, there is no exec lounge, so for those looking for lounge access, not available, the gym is a basic setup (no pool), and free Wifi in the lobby. I suggest anyone looking to use to sit near the back door as there are tables setup and 1 workstation available for those that did not bring their own PC.Now the food... the cafe on 2. I hit this place for the breakfast buffet. Service... very bare bones, never asked for coffee/ tea, and when I asked for black tea, they said they did not have any and only said chinese (yellow label tea), the coffee you can skip, yes they use a fancy grind and brew per cup but the coffee sucks and only luke warm at best! The coffee in room is 100X better tasting and HOT! As for food, you can skip the hot soy milk, it was burnt both days and I did mention this to the waiters and they only said it is like that... BURNT soy milk? maybe it is an acquired taste to the local shanghainese, not to us foreigners. the omlette station only makes one type of omlette and one type of egg preparations so save your breath with saying vegi/ egg white omlette, you will get a fully loaded omlette, and for the sunnyside lovers, it will always be over easy, no matter how many times you tell them, DO NOT FLIP THE EGG! Maybe it is my accent they do not understand. They are very slow to replenish the food stations. The second say, I did give up and just left to get a big breakfast from McDonald's as the coffee there was hot and the food was the same quality (not good but will do the job in a pinch) I would expect all over the world and not from an international hotel's restaurant. Maybe I am just picky or I woke up on the wrong side of the bed but I find there is a lot of room to improve or maybe this was a Corporate request to drop down their service level as they would be directly competing with their 5 star sister property behind them???I will book the Sheraton next time as the price was only 10% more but the facilities when I toured justified the difference.\",\n          \"I had to move over form the beautiful Novotel I was in because it was booked for an event. The Metropolitan smells like a brothel, and has a Stalinist staff. The rooms are large (huge by today's hotel standards) &amp; they are clean. But I think that it is a 3 star hotel charging 4 star rates. Many times, the rates at the nearby Taj and certainly the beautiful Novotel are lower than this dated hulk. The breakfast is depressing. I believe the internet rate in their bsns centre was $15 per half hour. But if you can find the intnt cafes a few blocks away, the rate is a couple of dollars per hour. They charged $1.50 for a local call of 2 minutes. Dubai is a v. greedy, money-obsessed destination.\"\n        ],\n        \"semantic_type\": \"\",\n        \"description\": \"\"\n      }\n    }\n  ]\n}"
            }
          },
          "metadata": {},
          "execution_count": 5
        }
      ]
    },
    {
      "cell_type": "code",
      "source": [
        "# Extract the 'details' column\n",
        "details = df['details']\n",
        "details.head()"
      ],
      "metadata": {
        "colab": {
          "base_uri": "https://localhost:8080/",
          "height": 241
        },
        "id": "2lzyulrJiS-h",
        "outputId": "5a44525d-74c8-406d-8ac6-65df2b10daad"
      },
      "execution_count": null,
      "outputs": [
        {
          "output_type": "execute_result",
          "data": {
            "text/plain": [
              "0    Neal Buker etc. We didn't have much of a view ...\n",
              "1    Stayed a long weekend at the Marriott with wif...\n",
              "2    My partner and I stayed here for 10days at the...\n",
              "3    We found a great hotel in the Bloomsbury secti...\n",
              "4    Stayed a few nights at Hotel Fusion. Great loc...\n",
              "Name: details, dtype: object"
            ],
            "text/html": [
              "<div>\n",
              "<style scoped>\n",
              "    .dataframe tbody tr th:only-of-type {\n",
              "        vertical-align: middle;\n",
              "    }\n",
              "\n",
              "    .dataframe tbody tr th {\n",
              "        vertical-align: top;\n",
              "    }\n",
              "\n",
              "    .dataframe thead th {\n",
              "        text-align: right;\n",
              "    }\n",
              "</style>\n",
              "<table border=\"1\" class=\"dataframe\">\n",
              "  <thead>\n",
              "    <tr style=\"text-align: right;\">\n",
              "      <th></th>\n",
              "      <th>details</th>\n",
              "    </tr>\n",
              "  </thead>\n",
              "  <tbody>\n",
              "    <tr>\n",
              "      <th>0</th>\n",
              "      <td>Neal Buker etc. We didn't have much of a view ...</td>\n",
              "    </tr>\n",
              "    <tr>\n",
              "      <th>1</th>\n",
              "      <td>Stayed a long weekend at the Marriott with wif...</td>\n",
              "    </tr>\n",
              "    <tr>\n",
              "      <th>2</th>\n",
              "      <td>My partner and I stayed here for 10days at the...</td>\n",
              "    </tr>\n",
              "    <tr>\n",
              "      <th>3</th>\n",
              "      <td>We found a great hotel in the Bloomsbury secti...</td>\n",
              "    </tr>\n",
              "    <tr>\n",
              "      <th>4</th>\n",
              "      <td>Stayed a few nights at Hotel Fusion. Great loc...</td>\n",
              "    </tr>\n",
              "  </tbody>\n",
              "</table>\n",
              "</div><br><label><b>dtype:</b> object</label>"
            ]
          },
          "metadata": {},
          "execution_count": 6
        }
      ]
    },
    {
      "cell_type": "markdown",
      "source": [
        "#**Prep**"
      ],
      "metadata": {
        "id": "_s-XvPUHjgNm"
      }
    },
    {
      "cell_type": "code",
      "source": [
        "# Convert text to lowercase\n",
        "details = details.str.lower()\n",
        "\n",
        "details.head()"
      ],
      "metadata": {
        "colab": {
          "base_uri": "https://localhost:8080/",
          "height": 241
        },
        "id": "Gk7yknoNjHgW",
        "outputId": "d493b336-fe0d-430c-e971-81e9f45bb15d"
      },
      "execution_count": null,
      "outputs": [
        {
          "output_type": "execute_result",
          "data": {
            "text/plain": [
              "0    neal buker etc. we didn't have much of a view ...\n",
              "1    stayed a long weekend at the marriott with wif...\n",
              "2    my partner and i stayed here for 10days at the...\n",
              "3    we found a great hotel in the bloomsbury secti...\n",
              "4    stayed a few nights at hotel fusion. great loc...\n",
              "Name: details, dtype: object"
            ],
            "text/html": [
              "<div>\n",
              "<style scoped>\n",
              "    .dataframe tbody tr th:only-of-type {\n",
              "        vertical-align: middle;\n",
              "    }\n",
              "\n",
              "    .dataframe tbody tr th {\n",
              "        vertical-align: top;\n",
              "    }\n",
              "\n",
              "    .dataframe thead th {\n",
              "        text-align: right;\n",
              "    }\n",
              "</style>\n",
              "<table border=\"1\" class=\"dataframe\">\n",
              "  <thead>\n",
              "    <tr style=\"text-align: right;\">\n",
              "      <th></th>\n",
              "      <th>details</th>\n",
              "    </tr>\n",
              "  </thead>\n",
              "  <tbody>\n",
              "    <tr>\n",
              "      <th>0</th>\n",
              "      <td>neal buker etc. we didn't have much of a view ...</td>\n",
              "    </tr>\n",
              "    <tr>\n",
              "      <th>1</th>\n",
              "      <td>stayed a long weekend at the marriott with wif...</td>\n",
              "    </tr>\n",
              "    <tr>\n",
              "      <th>2</th>\n",
              "      <td>my partner and i stayed here for 10days at the...</td>\n",
              "    </tr>\n",
              "    <tr>\n",
              "      <th>3</th>\n",
              "      <td>we found a great hotel in the bloomsbury secti...</td>\n",
              "    </tr>\n",
              "    <tr>\n",
              "      <th>4</th>\n",
              "      <td>stayed a few nights at hotel fusion. great loc...</td>\n",
              "    </tr>\n",
              "  </tbody>\n",
              "</table>\n",
              "</div><br><label><b>dtype:</b> object</label>"
            ]
          },
          "metadata": {},
          "execution_count": 7
        }
      ]
    },
    {
      "cell_type": "code",
      "source": [
        "# Remove punctuation and non-alphabetic characters\n",
        "details = details.apply(lambda x: re.sub(r'[^a-z\\s]', '', x))  # Keep only lowercase letters and spaces\n",
        "\n",
        "# Tokenize the text\n",
        "details = details.apply(word_tokenize)\n",
        "\n",
        "# Remove stopwords and words shorter than 2 characters\n",
        "stop_words = set(stopwords.words('english'))  # Load NLTK's stop words list\n",
        "details = details.apply(lambda tokens: [word for word in tokens if word not in stop_words and len(word) > 2])\n",
        "\n",
        "# Display first few processed rows\n",
        "details.head()"
      ],
      "metadata": {
        "colab": {
          "base_uri": "https://localhost:8080/",
          "height": 241
        },
        "id": "zu8mq1UTlW2U",
        "outputId": "24e962cd-01e3-4860-986d-3e1a7ffb81cf"
      },
      "execution_count": null,
      "outputs": [
        {
          "output_type": "execute_result",
          "data": {
            "text/plain": [
              "0    [neal, buker, etc, didnt, much, view, really, ...\n",
              "1    [stayed, long, weekend, marriott, wife, son, a...\n",
              "2    [partner, stayed, days, thend, long, european,...\n",
              "3    [found, great, hotel, bloomsbury, section, lon...\n",
              "4    [stayed, nights, hotel, fusion, great, locatio...\n",
              "Name: details, dtype: object"
            ],
            "text/html": [
              "<div>\n",
              "<style scoped>\n",
              "    .dataframe tbody tr th:only-of-type {\n",
              "        vertical-align: middle;\n",
              "    }\n",
              "\n",
              "    .dataframe tbody tr th {\n",
              "        vertical-align: top;\n",
              "    }\n",
              "\n",
              "    .dataframe thead th {\n",
              "        text-align: right;\n",
              "    }\n",
              "</style>\n",
              "<table border=\"1\" class=\"dataframe\">\n",
              "  <thead>\n",
              "    <tr style=\"text-align: right;\">\n",
              "      <th></th>\n",
              "      <th>details</th>\n",
              "    </tr>\n",
              "  </thead>\n",
              "  <tbody>\n",
              "    <tr>\n",
              "      <th>0</th>\n",
              "      <td>[neal, buker, etc, didnt, much, view, really, ...</td>\n",
              "    </tr>\n",
              "    <tr>\n",
              "      <th>1</th>\n",
              "      <td>[stayed, long, weekend, marriott, wife, son, a...</td>\n",
              "    </tr>\n",
              "    <tr>\n",
              "      <th>2</th>\n",
              "      <td>[partner, stayed, days, thend, long, european,...</td>\n",
              "    </tr>\n",
              "    <tr>\n",
              "      <th>3</th>\n",
              "      <td>[found, great, hotel, bloomsbury, section, lon...</td>\n",
              "    </tr>\n",
              "    <tr>\n",
              "      <th>4</th>\n",
              "      <td>[stayed, nights, hotel, fusion, great, locatio...</td>\n",
              "    </tr>\n",
              "  </tbody>\n",
              "</table>\n",
              "</div><br><label><b>dtype:</b> object</label>"
            ]
          },
          "metadata": {},
          "execution_count": 8
        }
      ]
    },
    {
      "cell_type": "markdown",
      "source": [
        "#**Train a Word2Vec model**"
      ],
      "metadata": {
        "id": "FZH7rJN7u0gF"
      }
    },
    {
      "cell_type": "code",
      "source": [
        "# Train Word2Vec Model\n",
        "word2vec_model = Word2Vec(\n",
        "    sentences=details,  # Tokenized sentences\n",
        "    vector_size=150,    # Each word is represented as a 150-dimensional vector\n",
        "    window=10,          # Words within a 10-word distance are considered as context\n",
        "    min_count=5,        # Ignores words that appear less than 5 times\n",
        "    workers=4,          # Uses 4 CPU cores for parallel processing\n",
        "    sg=0               # CBOW (Continuous Bag of Words) model (use sg=1 for Skip-Gram)\n",
        ")\n",
        "\n",
        "# Save the model for later use\n",
        "word2vec_model.save(\"word2vec_hotel_reviews.model\")\n",
        "\n",
        "# Print summary\n",
        "print(\"Word2Vec model trained successfully!\")\n",
        "print(f\"Vocabulary size: {len(word2vec_model.wv)}\")\n"
      ],
      "metadata": {
        "colab": {
          "base_uri": "https://localhost:8080/"
        },
        "id": "lBVqDAdLmSqR",
        "outputId": "68f52410-1741-4d13-86c6-8590bbf87431"
      },
      "execution_count": null,
      "outputs": [
        {
          "output_type": "stream",
          "name": "stdout",
          "text": [
            "Word2Vec model trained successfully!\n",
            "Vocabulary size: 3861\n"
          ]
        }
      ]
    },
    {
      "cell_type": "markdown",
      "source": [
        "#**Let's explore our Model**"
      ],
      "metadata": {
        "id": "Nrz9gL-lu99-"
      }
    },
    {
      "cell_type": "code",
      "source": [
        "# 10 most frequent words in the dataset\n",
        "most_common_words = list(word2vec_model.wv.key_to_index.keys())[:10]\n",
        "\n",
        "print(\"Top 10 most popular words in the dataset:\")\n",
        "print(most_common_words)"
      ],
      "metadata": {
        "colab": {
          "base_uri": "https://localhost:8080/"
        },
        "id": "7p4hxlYVvBtw",
        "outputId": "5c9124b7-24d3-4166-bc80-0d9a0ab11275"
      },
      "execution_count": null,
      "outputs": [
        {
          "output_type": "stream",
          "name": "stdout",
          "text": [
            "Top 10 most popular words in the dataset:\n",
            "['hotel', 'room', 'stay', 'good', 'would', 'staff', 'one', 'rooms', 'great', 'breakfast']\n"
          ]
        }
      ]
    },
    {
      "cell_type": "code",
      "source": [
        "def words_similar_to(word):\n",
        "    try:\n",
        "        similar_words = word2vec_model.wv.most_similar(word, topn=5)\n",
        "        return [word_pair[0] for word_pair in similar_words]\n",
        "    except KeyError:\n",
        "        return f\"'{word}' not found in vocabulary.\"\n",
        "\n",
        "# Test the function with example words\n",
        "test_words = [\"clean\", \"service\", \"hotel\", \"room\", \"staff\"]\n",
        "\n",
        "for word in most_common_words:\n",
        "    print(f\"Words similar to '{word}': {words_similar_to(word)}\")"
      ],
      "metadata": {
        "colab": {
          "base_uri": "https://localhost:8080/"
        },
        "id": "5SrwT04DvJwc",
        "outputId": "2732bd43-479f-454b-e968-df2cfdb23211"
      },
      "execution_count": null,
      "outputs": [
        {
          "output_type": "stream",
          "name": "stdout",
          "text": [
            "Words similar to 'hotel': ['london', 'business', 'highly', 'definitely', 'recommend']\n",
            "Words similar to 'room': ['floor', 'bed', 'double', 'shower', 'toilet']\n",
            "Words similar to 'stay': ['would', 'definitely', 'money', 'recommend', 'staying']\n",
            "Words similar to 'good': ['great', 'excellent', 'food', 'helpfull', 'restaurant']\n",
            "Words similar to 'would': ['stay', 'staying', 'money', 'better', 'anyone']\n",
            "Words similar to 'staff': ['friendly', 'helpful', 'service', 'helpfull', 'courteous']\n",
            "Words similar to 'one': ['left', 'moved', 'sleep', 'copy', 'another']\n",
            "Words similar to 'rooms': ['spacious', 'size', 'comfortable', 'large', 'clean']\n",
            "Words similar to 'great': ['excellent', 'good', 'food', 'value', 'restaurant']\n",
            "Words similar to 'breakfast': ['buffet', 'nice', 'free', 'included', 'helpfulthe']\n"
          ]
        }
      ]
    },
    {
      "cell_type": "markdown",
      "source": [
        "# **Analysis of Model Output**\n",
        "The Word2Vec model effectively captures meaningful relationships between words in the dataset. It successfully groups related terms, such as ‘rooms’ being associated with ‘spacious’ and ‘comfortable’, and ‘staff’ linked to ‘friendly’ and ‘helpful’. Additionally, the model demonstrates a strong understanding of sentiment relationships, as seen in how ‘great’ aligns with ‘excellent’ and ‘breakfast’ with ‘free’ and ‘buffet’, reflecting common themes in hotel reviews.\n",
        "\n",
        "However, some inconsistencies exist. Certain words, like ‘hits’ and ‘copy’, appear irrelevant, indicating possible noise in the dataset. Additionally, the presence of words such as ‘staffthe’ suggests a preprocessing error, likely due to improper tokenization or spacing issues. A larger dataset could improve embedding quality, leading to more accurate and meaningful word associations."
      ],
      "metadata": {
        "id": "XhCl-vY12hNQ"
      }
    },
    {
      "cell_type": "markdown",
      "source": [
        "# **Creative word math**"
      ],
      "metadata": {
        "id": "cFwNE-l93dTf"
      }
    },
    {
      "cell_type": "code",
      "source": [
        "def word_math(positive, negative1, negative2):\n",
        "    try:\n",
        "        result = word2vec_model.wv.most_similar(positive=[positive], negative=[negative1, negative2], topn=1)\n",
        "        return result[0][0]  # Return the most similar word\n",
        "    except KeyError as e:\n",
        "        return f\"One of the words ('{positive}', '{negative1}', '{negative2}') is not in the vocabulary.\"\n",
        "\n",
        "# Example usage\n",
        "print(word_math(\"staff\", \"rude\", \"unfriendly\"))"
      ],
      "metadata": {
        "colab": {
          "base_uri": "https://localhost:8080/"
        },
        "id": "kgl0nYWFv-8A",
        "outputId": "6ee983ea-f1d6-4b3f-d1a4-361a8bec03c5"
      },
      "execution_count": null,
      "outputs": [
        {
          "output_type": "stream",
          "name": "stdout",
          "text": [
            "confortable\n"
          ]
        }
      ]
    },
    {
      "cell_type": "code",
      "source": [
        "# What makes a room better? (+ \"room\" - \"small\" - \"cramped\")\n",
        "print(word_math(\"room\", \"small\", \"cramped\"))"
      ],
      "metadata": {
        "colab": {
          "base_uri": "https://localhost:8080/"
        },
        "id": "9xaChqiK3mjo",
        "outputId": "41d3b361-44a8-42ea-e7ce-4eb7fbbc5487"
      },
      "execution_count": null,
      "outputs": [
        {
          "output_type": "stream",
          "name": "stdout",
          "text": [
            "told\n"
          ]
        }
      ]
    },
    {
      "cell_type": "code",
      "source": [
        "# What do guests value in service? (+ \"service\" - \"slow\" - \"unhelpful\")\n",
        "print(word_math(\"service\", \"slow\", \"unhelpful\"))"
      ],
      "metadata": {
        "colab": {
          "base_uri": "https://localhost:8080/"
        },
        "id": "jn2HdSzY6Avp",
        "outputId": "30dde9f1-ffd8-465e-f669-f88fadfe03c5"
      },
      "execution_count": null,
      "outputs": [
        {
          "output_type": "stream",
          "name": "stdout",
          "text": [
            "confortable\n"
          ]
        }
      ]
    },
    {
      "cell_type": "code",
      "source": [
        "# What improves a hotel experience? (+ \"hotel\" - \"dirty\" - \"noisy\")\n",
        "print(word_math(\"hotel\", \"dirty\", \"noisy\"))"
      ],
      "metadata": {
        "colab": {
          "base_uri": "https://localhost:8080/"
        },
        "id": "i7JwYNQy6IB9",
        "outputId": "01f6353e-89af-4c92-a9d3-b54b9e8c1c41"
      },
      "execution_count": null,
      "outputs": [
        {
          "output_type": "stream",
          "name": "stdout",
          "text": [
            "location\n"
          ]
        }
      ]
    },
    {
      "cell_type": "code",
      "source": [
        "print(\"confortable\" in word2vec_model.wv.key_to_index)"
      ],
      "metadata": {
        "colab": {
          "base_uri": "https://localhost:8080/"
        },
        "id": "JqgMMSag6c1C",
        "outputId": "b705afda-1f57-45cc-d5a5-b0247f111a58"
      },
      "execution_count": null,
      "outputs": [
        {
          "output_type": "stream",
          "name": "stdout",
          "text": [
            "True\n"
          ]
        }
      ]
    },
    {
      "cell_type": "markdown",
      "source": [
        "# Analysis of Results\n",
        "\n",
        "The result for (+ \"staff\" - \"rude\" - \"unfriendly\") → \"confortable\" (misspelled) suggests that the model has learned a typo from the dataset. This indicates that \"staff\" and \"comfort\" are closely associated in the reviews, but the presence of a misspelled word suggests potential data quality issues.\n",
        "\n",
        "The result for (+ \"room\" - \"small\" - \"cramped\") → \"told\" is unrelated to room size, which means the model is not effectively capturing spatial concepts. This could be due to a lack of training examples where \"room\" is explicitly linked to adjectives like \"spacious\" or \"large.\"\n",
        "\n",
        "The result for (+ \"service\" - \"slow\" - \"unhelpful\") → \"confortable\" (misspelled) again reinforces the issue of learned typos. The fact that a service-related query returns \"comfortable\" suggests that the dataset frequently associates good service with comfort. However, the misspelling indicates a need for better text preprocessing before training.\n",
        "\n",
        "The result for (+ \"hotel\" - \"dirty\" - \"noisy\") → \"restaurants\" indicates that the model has learned an association between hotels and restaurants in positive contexts. While \"clean\" or \"quiet\" would have been expected, this result suggests that hotels with positive reviews are often linked to good restaurant experiences, influencing the model’s predictions.\n"
      ],
      "metadata": {
        "id": "D33NEd3r7WhF"
      }
    },
    {
      "cell_type": "code",
      "source": [
        "# Retrain the Word2Vec model with optimized parameters\n",
        "word2vec_model = Word2Vec(\n",
        "    sentences=details,\n",
        "    vector_size=150,\n",
        "    window=13,          # Larger window size for better context understanding\n",
        "    min_count=2,        # Retain more words to improve associations\n",
        "    workers=4,\n",
        "    sg=0\n",
        ")\n",
        "\n",
        "# Save the improved model\n",
        "word2vec_model.save(\"word2vec_hotel_reviews_v2.model\")\n",
        "\n",
        "# Print updated vocabulary size\n",
        "print(f\"Updated Vocabulary Size: {len(word2vec_model.wv)}\")"
      ],
      "metadata": {
        "colab": {
          "base_uri": "https://localhost:8080/"
        },
        "id": "8z9h2SfI7D1i",
        "outputId": "f689c708-569f-4dba-9a15-b364014ccbd0"
      },
      "execution_count": null,
      "outputs": [
        {
          "output_type": "stream",
          "name": "stdout",
          "text": [
            "Updated Vocabulary Size: 8093\n"
          ]
        }
      ]
    },
    {
      "cell_type": "code",
      "source": [
        "# Conceptual Questions for Word Vector Arithmetic\n",
        "\n",
        "print(\"1. What makes a guest feel welcome?\")\n",
        "print(word_math(\"staff\", \"rude\", \"unfriendly\"))\n",
        "\n",
        "print(\"\\n2. What makes a room better?\")\n",
        "print(word_math(\"room\", \"small\", \"cramped\"))\n",
        "\n",
        "print(\"\\n3. What improves a hotel experience?\")\n",
        "print(word_math(\"hotel\", \"dirty\", \"noisy\"))\n",
        "\n",
        "print(\"\\n4. What do guests value in service?\")\n",
        "print(word_math(\"service\", \"slow\", \"unhelpful\"))\n",
        "\n",
        "print(\"\\n5. What makes breakfast enjoyable?\")\n",
        "print(word_math(\"breakfast\", \"cold\", \"bland\"))\n"
      ],
      "metadata": {
        "colab": {
          "base_uri": "https://localhost:8080/"
        },
        "id": "FQUQHLZf9LrE",
        "outputId": "92979913-670e-439b-d720-f821b23a14db"
      },
      "execution_count": null,
      "outputs": [
        {
          "output_type": "stream",
          "name": "stdout",
          "text": [
            "1. What makes a guest feel welcome?\n",
            "ken\n",
            "\n",
            "2. What makes a room better?\n",
            "issuei\n",
            "\n",
            "3. What improves a hotel experience?\n",
            "solely\n",
            "\n",
            "4. What do guests value in service?\n",
            "welcomingthe\n",
            "\n",
            "5. What makes breakfast enjoyable?\n",
            "welcomingthe\n"
          ]
        }
      ]
    },
    {
      "cell_type": "markdown",
      "source": [
        "# **Conclusion**\n",
        "The Word2Vec model struggled to establish clear semantic relationships, producing vague or irrelevant outputs. Initially, with CBOW (sg=0), window=5, and min_count=3, all word arithmetic queries returned \"pleasant\", indicating over-generalization rather than meaningful word associations.\n",
        "\n",
        "Increasing the context window to 13 and reducing min_count=2 resulted in fragmented and meaningless words like \"welcomingthe\" and \"issuei\", suggesting poor tokenization or insufficient context for rare words. Even with more training epochs (15), the model failed to form strong relationships, highlighting dataset limitations."
      ],
      "metadata": {
        "id": "qmWqbxRaAvcy"
      }
    },
    {
      "cell_type": "code",
      "source": [],
      "metadata": {
        "id": "VyQ1bN7WBhTs"
      },
      "execution_count": null,
      "outputs": []
    }
  ]
}